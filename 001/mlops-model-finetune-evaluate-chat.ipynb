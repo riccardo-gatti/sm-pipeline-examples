{
 "cells": [
  {
   "cell_type": "markdown",
   "id": "1bd4cbe6-a20b-457f-a019-aae403938c0c",
   "metadata": {
    "tags": []
   },
   "source": [
    "## Orchestrate model evaluation with Amazon SageMaker Pipelines\n",
    "  \n",
    "The goal of this notebook is to provide an implementation of a multi-step SageMaker pipeline that will take care of multiple models evaluation, selection and registration into the SageMaker model registry.  \n",
    "For running this example we will use **LLama-2-7b** models that will be used with default weights or after a finetuning. All the models will be instantiated and finetuned by using [Amazon Sagemaker Jumpstart SDK](https://aws.amazon.com/sagemaker/jumpstart/).  \n",
    "This notebook is also using other Amazon SageMaker components:  \n",
    "\n",
    "[SageMaker Pipelines](https://aws.amazon.com/sagemaker/pipelines/) is a purpose-built workflow orchestration service to automate all phases of machine learning (ML) from data pre-processing to model monitoring. With an intuitive UI and Python SDK you can manage repeatable end-to-end ML pipelines at scale. The native integration with multiple AWS services allows you to customize the ML lifecycle based on your MLOps requirements.\n",
    "SageMaker Model Registry\n",
    "\n",
    "[Amazon SageMaker Model Registry](https://docs.aws.amazon.com/sagemaker/latest/dg/model-registry.html) is a purpose-built metadata store to manage the entire lifecycle of ML models from training to inference. Whether you prefer to store your model artifacts (model framework files, container image) in AWS (Amazon ECR) or outside of AWS in any third party Docker repository, you can now track them all in Amazon SageMaker Model Registry. You also have the flexibility to register a model without read/write permissions to the associated container image. If you want to track an ML model in a private repository, set the optional ‘SkipModelValidation’ parameter to ‘All’ at the time of registration. Later you can also deploy these models for inference in Amazon SageMaker.\n",
    "\n",
    "[Amazon SageMaker Clarify](https://aws.amazon.com/sagemaker/clarify/) provides purpose-built tools to gain greater insights into your ML models and data, based on metrics such as accuracy, robustness, toxicity, and bias to improve model quality and support responsible AI initiative. With the rise of generative AI, data scientists and ML engineers can leverage publicly available foundation models (FMs) to accelerate speed-to-market. To remove the heavy lifting of evaluating and selecting the right FM for your use case, Amazon SageMaker Clarify supports FM evaluation to help you quickly evaluate, compare, and select the best FM for your use case based on a variety of criteria across different tasks within minutes. It allows you to adopt FMs faster and with confidence.\n",
    "To perform evaluation we are using the open source library [FMEval](https://github.com/aws/fmeval) that empowers SageMaker Clarify FM model evaluation.\n",
    "\n",
    "This example is built by following the best practices explained in the blog post [Operationalize LLM Evaluation at Scale using Amazon SageMaker Clarify and MLOps services](https://aws.amazon.com/blogs/machine-learning/operationalize-llm-evaluation-at-scale-using-amazon-sagemaker-clarify-and-mlops-services/). "
   ]
  },
  {
   "cell_type": "markdown",
   "id": "342165dc-1709-456a-ad8f-ec7a5a6e2c05",
   "metadata": {
    "tags": []
   },
   "source": [
    "### Environment setup\n",
    "First we need to install required dependencies and import required libraries.  \n",
    "We also make sagemaker SDK aware of the configuration file *config.yml*. \n",
    "This file *config.yml* contains general pipeline parameters like the default pipeline container instance type and the path to the file *dependencies.txt* with the required dependencies.\n",
    "These dependencies will be automatically downloaded from the pipeline container at the start of each pipeline step. We will create *requirements.txt* file later in the notebook."
   ]
  },
  {
   "cell_type": "code",
   "execution_count": 29,
   "id": "971e8e6ca28a3752",
   "metadata": {
    "collapsed": false,
    "tags": [],
    "ExecuteTime": {
     "end_time": "2024-06-20T08:10:19.213416Z",
     "start_time": "2024-06-20T08:09:58.219703Z"
    }
   },
   "outputs": [
    {
     "name": "stdout",
     "output_type": "stream",
     "text": [
      "Requirement already satisfied: fmeval==0.4.0 in /Users/rgatti/miniconda3/envs/fmeval-0-4-0/lib/python3.10/site-packages (0.4.0)\r\n",
      "Requirement already satisfied: IPython in /Users/rgatti/miniconda3/envs/fmeval-0-4-0/lib/python3.10/site-packages (from fmeval==0.4.0) (8.20.0)\r\n",
      "Requirement already satisfied: aiohttp<4.0.0,>=3.9.2 in /Users/rgatti/miniconda3/envs/fmeval-0-4-0/lib/python3.10/site-packages (from fmeval==0.4.0) (3.9.3)\r\n",
      "Requirement already satisfied: bert-score<0.4.0,>=0.3.13 in /Users/rgatti/miniconda3/envs/fmeval-0-4-0/lib/python3.10/site-packages (from fmeval==0.4.0) (0.3.13)\r\n",
      "Requirement already satisfied: evaluate<0.5.0,>=0.4.0 in /Users/rgatti/miniconda3/envs/fmeval-0-4-0/lib/python3.10/site-packages (from fmeval==0.4.0) (0.4.1)\r\n",
      "Requirement already satisfied: grpcio<2.0.0,>=1.60.0 in /Users/rgatti/miniconda3/envs/fmeval-0-4-0/lib/python3.10/site-packages (from fmeval==0.4.0) (1.62.0)\r\n",
      "Requirement already satisfied: ipykernel<7.0.0,>=6.26.0 in /Users/rgatti/miniconda3/envs/fmeval-0-4-0/lib/python3.10/site-packages (from fmeval==0.4.0) (6.28.0)\r\n",
      "Requirement already satisfied: jiwer<4.0.0,>=3.0.3 in /Users/rgatti/miniconda3/envs/fmeval-0-4-0/lib/python3.10/site-packages (from fmeval==0.4.0) (3.0.3)\r\n",
      "Requirement already satisfied: markdown in /Users/rgatti/miniconda3/envs/fmeval-0-4-0/lib/python3.10/site-packages (from fmeval==0.4.0) (3.5.2)\r\n",
      "Requirement already satisfied: matplotlib<4.0.0,>=3.8.0 in /Users/rgatti/miniconda3/envs/fmeval-0-4-0/lib/python3.10/site-packages (from fmeval==0.4.0) (3.8.3)\r\n",
      "Requirement already satisfied: mypy-boto3-bedrock<2.0.0,>=1.33.2 in /Users/rgatti/miniconda3/envs/fmeval-0-4-0/lib/python3.10/site-packages (from fmeval==0.4.0) (1.34.0)\r\n",
      "Requirement already satisfied: nltk<4.0.0,>=3.8.1 in /Users/rgatti/miniconda3/envs/fmeval-0-4-0/lib/python3.10/site-packages (from fmeval==0.4.0) (3.8.1)\r\n",
      "Requirement already satisfied: pandas==2.1.4 in /Users/rgatti/miniconda3/envs/fmeval-0-4-0/lib/python3.10/site-packages (from fmeval==0.4.0) (2.1.4)\r\n",
      "Requirement already satisfied: pyarrow in /Users/rgatti/miniconda3/envs/fmeval-0-4-0/lib/python3.10/site-packages (from fmeval==0.4.0) (15.0.0)\r\n",
      "Requirement already satisfied: pyfunctional==1.4.3 in /Users/rgatti/miniconda3/envs/fmeval-0-4-0/lib/python3.10/site-packages (from fmeval==0.4.0) (1.4.3)\r\n",
      "Requirement already satisfied: ray==2.9.1 in /Users/rgatti/miniconda3/envs/fmeval-0-4-0/lib/python3.10/site-packages (from fmeval==0.4.0) (2.9.1)\r\n",
      "Requirement already satisfied: rouge-score<0.2.0,>=0.1.2 in /Users/rgatti/miniconda3/envs/fmeval-0-4-0/lib/python3.10/site-packages (from fmeval==0.4.0) (0.1.2)\r\n",
      "Requirement already satisfied: sagemaker<3.0.0,>=2.199.0 in /Users/rgatti/miniconda3/envs/fmeval-0-4-0/lib/python3.10/site-packages (from fmeval==0.4.0) (2.208.0)\r\n",
      "Requirement already satisfied: scikit-learn<2.0.0,>=1.3.1 in /Users/rgatti/miniconda3/envs/fmeval-0-4-0/lib/python3.10/site-packages (from fmeval==0.4.0) (1.4.1.post1)\r\n",
      "Requirement already satisfied: semantic-version==2.10.0 in /Users/rgatti/miniconda3/envs/fmeval-0-4-0/lib/python3.10/site-packages (from fmeval==0.4.0) (2.10.0)\r\n",
      "Requirement already satisfied: testbook<0.5.0,>=0.4.2 in /Users/rgatti/miniconda3/envs/fmeval-0-4-0/lib/python3.10/site-packages (from fmeval==0.4.0) (0.4.2)\r\n",
      "Requirement already satisfied: torch!=2.0.1,!=2.1.0,>=2.0.0 in /Users/rgatti/miniconda3/envs/fmeval-0-4-0/lib/python3.10/site-packages (from fmeval==0.4.0) (2.2.0)\r\n",
      "Requirement already satisfied: transformers<5.0.0,>=4.36.0 in /Users/rgatti/miniconda3/envs/fmeval-0-4-0/lib/python3.10/site-packages (from fmeval==0.4.0) (4.38.1)\r\n",
      "Requirement already satisfied: urllib3==1.26.18 in /Users/rgatti/miniconda3/envs/fmeval-0-4-0/lib/python3.10/site-packages (from fmeval==0.4.0) (1.26.18)\r\n",
      "Requirement already satisfied: numpy<2,>=1.22.4 in /Users/rgatti/miniconda3/envs/fmeval-0-4-0/lib/python3.10/site-packages (from pandas==2.1.4->fmeval==0.4.0) (1.26.4)\r\n",
      "Requirement already satisfied: python-dateutil>=2.8.2 in /Users/rgatti/miniconda3/envs/fmeval-0-4-0/lib/python3.10/site-packages (from pandas==2.1.4->fmeval==0.4.0) (2.8.2)\r\n",
      "Requirement already satisfied: pytz>=2020.1 in /Users/rgatti/miniconda3/envs/fmeval-0-4-0/lib/python3.10/site-packages (from pandas==2.1.4->fmeval==0.4.0) (2023.3.post1)\r\n",
      "Requirement already satisfied: tzdata>=2022.1 in /Users/rgatti/miniconda3/envs/fmeval-0-4-0/lib/python3.10/site-packages (from pandas==2.1.4->fmeval==0.4.0) (2024.1)\r\n",
      "Requirement already satisfied: dill>=0.2.5 in /Users/rgatti/miniconda3/envs/fmeval-0-4-0/lib/python3.10/site-packages (from pyfunctional==1.4.3->fmeval==0.4.0) (0.3.8)\r\n",
      "Requirement already satisfied: tabulate<=1.0.0 in /Users/rgatti/miniconda3/envs/fmeval-0-4-0/lib/python3.10/site-packages (from pyfunctional==1.4.3->fmeval==0.4.0) (0.9.0)\r\n",
      "Requirement already satisfied: click>=7.0 in /Users/rgatti/miniconda3/envs/fmeval-0-4-0/lib/python3.10/site-packages (from ray==2.9.1->fmeval==0.4.0) (8.1.7)\r\n",
      "Requirement already satisfied: filelock in /Users/rgatti/miniconda3/envs/fmeval-0-4-0/lib/python3.10/site-packages (from ray==2.9.1->fmeval==0.4.0) (3.13.1)\r\n",
      "Requirement already satisfied: jsonschema in /Users/rgatti/miniconda3/envs/fmeval-0-4-0/lib/python3.10/site-packages (from ray==2.9.1->fmeval==0.4.0) (4.19.2)\r\n",
      "Requirement already satisfied: msgpack<2.0.0,>=1.0.0 in /Users/rgatti/miniconda3/envs/fmeval-0-4-0/lib/python3.10/site-packages (from ray==2.9.1->fmeval==0.4.0) (1.0.7)\r\n",
      "Requirement already satisfied: packaging in /Users/rgatti/miniconda3/envs/fmeval-0-4-0/lib/python3.10/site-packages (from ray==2.9.1->fmeval==0.4.0) (23.1)\r\n",
      "Requirement already satisfied: protobuf!=3.19.5,>=3.15.3 in /Users/rgatti/miniconda3/envs/fmeval-0-4-0/lib/python3.10/site-packages (from ray==2.9.1->fmeval==0.4.0) (4.25.3)\r\n",
      "Requirement already satisfied: pyyaml in /Users/rgatti/miniconda3/envs/fmeval-0-4-0/lib/python3.10/site-packages (from ray==2.9.1->fmeval==0.4.0) (6.0.1)\r\n",
      "Requirement already satisfied: aiosignal in /Users/rgatti/miniconda3/envs/fmeval-0-4-0/lib/python3.10/site-packages (from ray==2.9.1->fmeval==0.4.0) (1.3.1)\r\n",
      "Requirement already satisfied: frozenlist in /Users/rgatti/miniconda3/envs/fmeval-0-4-0/lib/python3.10/site-packages (from ray==2.9.1->fmeval==0.4.0) (1.4.1)\r\n",
      "Requirement already satisfied: requests in /Users/rgatti/miniconda3/envs/fmeval-0-4-0/lib/python3.10/site-packages (from ray==2.9.1->fmeval==0.4.0) (2.32.3)\r\n",
      "Requirement already satisfied: attrs>=17.3.0 in /Users/rgatti/miniconda3/envs/fmeval-0-4-0/lib/python3.10/site-packages (from aiohttp<4.0.0,>=3.9.2->fmeval==0.4.0) (23.1.0)\r\n",
      "Requirement already satisfied: multidict<7.0,>=4.5 in /Users/rgatti/miniconda3/envs/fmeval-0-4-0/lib/python3.10/site-packages (from aiohttp<4.0.0,>=3.9.2->fmeval==0.4.0) (6.0.5)\r\n",
      "Requirement already satisfied: yarl<2.0,>=1.0 in /Users/rgatti/miniconda3/envs/fmeval-0-4-0/lib/python3.10/site-packages (from aiohttp<4.0.0,>=3.9.2->fmeval==0.4.0) (1.9.4)\r\n",
      "Requirement already satisfied: async-timeout<5.0,>=4.0 in /Users/rgatti/miniconda3/envs/fmeval-0-4-0/lib/python3.10/site-packages (from aiohttp<4.0.0,>=3.9.2->fmeval==0.4.0) (4.0.3)\r\n",
      "Requirement already satisfied: tqdm>=4.31.1 in /Users/rgatti/miniconda3/envs/fmeval-0-4-0/lib/python3.10/site-packages (from bert-score<0.4.0,>=0.3.13->fmeval==0.4.0) (4.66.4)\r\n",
      "Requirement already satisfied: datasets>=2.0.0 in /Users/rgatti/miniconda3/envs/fmeval-0-4-0/lib/python3.10/site-packages (from evaluate<0.5.0,>=0.4.0->fmeval==0.4.0) (2.20.0)\r\n",
      "Requirement already satisfied: xxhash in /Users/rgatti/miniconda3/envs/fmeval-0-4-0/lib/python3.10/site-packages (from evaluate<0.5.0,>=0.4.0->fmeval==0.4.0) (3.4.1)\r\n",
      "Requirement already satisfied: multiprocess in /Users/rgatti/miniconda3/envs/fmeval-0-4-0/lib/python3.10/site-packages (from evaluate<0.5.0,>=0.4.0->fmeval==0.4.0) (0.70.16)\r\n",
      "Requirement already satisfied: fsspec>=2021.05.0 in /Users/rgatti/miniconda3/envs/fmeval-0-4-0/lib/python3.10/site-packages (from fsspec[http]>=2021.05.0->evaluate<0.5.0,>=0.4.0->fmeval==0.4.0) (2023.10.0)\r\n",
      "Requirement already satisfied: huggingface-hub>=0.7.0 in /Users/rgatti/miniconda3/envs/fmeval-0-4-0/lib/python3.10/site-packages (from evaluate<0.5.0,>=0.4.0->fmeval==0.4.0) (0.23.3)\r\n",
      "Requirement already satisfied: responses<0.19 in /Users/rgatti/miniconda3/envs/fmeval-0-4-0/lib/python3.10/site-packages (from evaluate<0.5.0,>=0.4.0->fmeval==0.4.0) (0.18.0)\r\n",
      "Requirement already satisfied: appnope in /Users/rgatti/miniconda3/envs/fmeval-0-4-0/lib/python3.10/site-packages (from ipykernel<7.0.0,>=6.26.0->fmeval==0.4.0) (0.1.2)\r\n",
      "Requirement already satisfied: comm>=0.1.1 in /Users/rgatti/miniconda3/envs/fmeval-0-4-0/lib/python3.10/site-packages (from ipykernel<7.0.0,>=6.26.0->fmeval==0.4.0) (0.2.1)\r\n",
      "Requirement already satisfied: debugpy>=1.6.5 in /Users/rgatti/miniconda3/envs/fmeval-0-4-0/lib/python3.10/site-packages (from ipykernel<7.0.0,>=6.26.0->fmeval==0.4.0) (1.6.7)\r\n",
      "Requirement already satisfied: jupyter-client>=6.1.12 in /Users/rgatti/miniconda3/envs/fmeval-0-4-0/lib/python3.10/site-packages (from ipykernel<7.0.0,>=6.26.0->fmeval==0.4.0) (8.6.0)\r\n",
      "Requirement already satisfied: jupyter-core!=5.0.*,>=4.12 in /Users/rgatti/miniconda3/envs/fmeval-0-4-0/lib/python3.10/site-packages (from ipykernel<7.0.0,>=6.26.0->fmeval==0.4.0) (5.5.0)\r\n",
      "Requirement already satisfied: matplotlib-inline>=0.1 in /Users/rgatti/miniconda3/envs/fmeval-0-4-0/lib/python3.10/site-packages (from ipykernel<7.0.0,>=6.26.0->fmeval==0.4.0) (0.1.6)\r\n",
      "Requirement already satisfied: nest-asyncio in /Users/rgatti/miniconda3/envs/fmeval-0-4-0/lib/python3.10/site-packages (from ipykernel<7.0.0,>=6.26.0->fmeval==0.4.0) (1.6.0)\r\n",
      "Requirement already satisfied: psutil in /Users/rgatti/miniconda3/envs/fmeval-0-4-0/lib/python3.10/site-packages (from ipykernel<7.0.0,>=6.26.0->fmeval==0.4.0) (5.9.0)\r\n",
      "Requirement already satisfied: pyzmq>=24 in /Users/rgatti/miniconda3/envs/fmeval-0-4-0/lib/python3.10/site-packages (from ipykernel<7.0.0,>=6.26.0->fmeval==0.4.0) (25.1.2)\r\n",
      "Requirement already satisfied: tornado>=6.1 in /Users/rgatti/miniconda3/envs/fmeval-0-4-0/lib/python3.10/site-packages (from ipykernel<7.0.0,>=6.26.0->fmeval==0.4.0) (6.3.3)\r\n",
      "Requirement already satisfied: traitlets>=5.4.0 in /Users/rgatti/miniconda3/envs/fmeval-0-4-0/lib/python3.10/site-packages (from ipykernel<7.0.0,>=6.26.0->fmeval==0.4.0) (5.14.1)\r\n",
      "Requirement already satisfied: decorator in /Users/rgatti/miniconda3/envs/fmeval-0-4-0/lib/python3.10/site-packages (from IPython->fmeval==0.4.0) (5.1.1)\r\n",
      "Requirement already satisfied: jedi>=0.16 in /Users/rgatti/miniconda3/envs/fmeval-0-4-0/lib/python3.10/site-packages (from IPython->fmeval==0.4.0) (0.18.1)\r\n",
      "Requirement already satisfied: prompt-toolkit<3.1.0,>=3.0.41 in /Users/rgatti/miniconda3/envs/fmeval-0-4-0/lib/python3.10/site-packages (from IPython->fmeval==0.4.0) (3.0.43)\r\n",
      "Requirement already satisfied: pygments>=2.4.0 in /Users/rgatti/miniconda3/envs/fmeval-0-4-0/lib/python3.10/site-packages (from IPython->fmeval==0.4.0) (2.15.1)\r\n",
      "Requirement already satisfied: stack-data in /Users/rgatti/miniconda3/envs/fmeval-0-4-0/lib/python3.10/site-packages (from IPython->fmeval==0.4.0) (0.2.0)\r\n",
      "Requirement already satisfied: exceptiongroup in /Users/rgatti/miniconda3/envs/fmeval-0-4-0/lib/python3.10/site-packages (from IPython->fmeval==0.4.0) (1.2.0)\r\n",
      "Requirement already satisfied: pexpect>4.3 in /Users/rgatti/miniconda3/envs/fmeval-0-4-0/lib/python3.10/site-packages (from IPython->fmeval==0.4.0) (4.8.0)\r\n",
      "Requirement already satisfied: rapidfuzz<4,>=3 in /Users/rgatti/miniconda3/envs/fmeval-0-4-0/lib/python3.10/site-packages (from jiwer<4.0.0,>=3.0.3->fmeval==0.4.0) (3.6.1)\r\n",
      "Requirement already satisfied: contourpy>=1.0.1 in /Users/rgatti/miniconda3/envs/fmeval-0-4-0/lib/python3.10/site-packages (from matplotlib<4.0.0,>=3.8.0->fmeval==0.4.0) (1.2.0)\r\n",
      "Requirement already satisfied: cycler>=0.10 in /Users/rgatti/miniconda3/envs/fmeval-0-4-0/lib/python3.10/site-packages (from matplotlib<4.0.0,>=3.8.0->fmeval==0.4.0) (0.12.1)\r\n",
      "Requirement already satisfied: fonttools>=4.22.0 in /Users/rgatti/miniconda3/envs/fmeval-0-4-0/lib/python3.10/site-packages (from matplotlib<4.0.0,>=3.8.0->fmeval==0.4.0) (4.49.0)\r\n",
      "Requirement already satisfied: kiwisolver>=1.3.1 in /Users/rgatti/miniconda3/envs/fmeval-0-4-0/lib/python3.10/site-packages (from matplotlib<4.0.0,>=3.8.0->fmeval==0.4.0) (1.4.5)\r\n",
      "Requirement already satisfied: pillow>=8 in /Users/rgatti/miniconda3/envs/fmeval-0-4-0/lib/python3.10/site-packages (from matplotlib<4.0.0,>=3.8.0->fmeval==0.4.0) (10.2.0)\r\n",
      "Requirement already satisfied: pyparsing>=2.3.1 in /Users/rgatti/miniconda3/envs/fmeval-0-4-0/lib/python3.10/site-packages (from matplotlib<4.0.0,>=3.8.0->fmeval==0.4.0) (3.1.1)\r\n",
      "Requirement already satisfied: typing-extensions>=4.1.0 in /Users/rgatti/miniconda3/envs/fmeval-0-4-0/lib/python3.10/site-packages (from mypy-boto3-bedrock<2.0.0,>=1.33.2->fmeval==0.4.0) (4.9.0)\r\n",
      "Requirement already satisfied: joblib in /Users/rgatti/miniconda3/envs/fmeval-0-4-0/lib/python3.10/site-packages (from nltk<4.0.0,>=3.8.1->fmeval==0.4.0) (1.3.2)\r\n",
      "Requirement already satisfied: regex>=2021.8.3 in /Users/rgatti/miniconda3/envs/fmeval-0-4-0/lib/python3.10/site-packages (from nltk<4.0.0,>=3.8.1->fmeval==0.4.0) (2023.12.25)\r\n",
      "Requirement already satisfied: absl-py in /Users/rgatti/miniconda3/envs/fmeval-0-4-0/lib/python3.10/site-packages (from rouge-score<0.2.0,>=0.1.2->fmeval==0.4.0) (2.1.0)\r\n",
      "Requirement already satisfied: six>=1.14.0 in /Users/rgatti/miniconda3/envs/fmeval-0-4-0/lib/python3.10/site-packages (from rouge-score<0.2.0,>=0.1.2->fmeval==0.4.0) (1.16.0)\r\n",
      "Requirement already satisfied: boto3<2.0,>=1.33.3 in /Users/rgatti/miniconda3/envs/fmeval-0-4-0/lib/python3.10/site-packages (from sagemaker<3.0.0,>=2.199.0->fmeval==0.4.0) (1.34.47)\r\n",
      "Requirement already satisfied: cloudpickle==2.2.1 in /Users/rgatti/miniconda3/envs/fmeval-0-4-0/lib/python3.10/site-packages (from sagemaker<3.0.0,>=2.199.0->fmeval==0.4.0) (2.2.1)\r\n",
      "Requirement already satisfied: google-pasta in /Users/rgatti/miniconda3/envs/fmeval-0-4-0/lib/python3.10/site-packages (from sagemaker<3.0.0,>=2.199.0->fmeval==0.4.0) (0.2.0)\r\n",
      "Requirement already satisfied: smdebug-rulesconfig==1.0.1 in /Users/rgatti/miniconda3/envs/fmeval-0-4-0/lib/python3.10/site-packages (from sagemaker<3.0.0,>=2.199.0->fmeval==0.4.0) (1.0.1)\r\n",
      "Requirement already satisfied: importlib-metadata<7.0,>=1.4.0 in /Users/rgatti/miniconda3/envs/fmeval-0-4-0/lib/python3.10/site-packages (from sagemaker<3.0.0,>=2.199.0->fmeval==0.4.0) (6.11.0)\r\n",
      "Requirement already satisfied: pathos in /Users/rgatti/miniconda3/envs/fmeval-0-4-0/lib/python3.10/site-packages (from sagemaker<3.0.0,>=2.199.0->fmeval==0.4.0) (0.3.2)\r\n",
      "Requirement already satisfied: schema in /Users/rgatti/miniconda3/envs/fmeval-0-4-0/lib/python3.10/site-packages (from sagemaker<3.0.0,>=2.199.0->fmeval==0.4.0) (0.7.5)\r\n",
      "Requirement already satisfied: platformdirs in /Users/rgatti/miniconda3/envs/fmeval-0-4-0/lib/python3.10/site-packages (from sagemaker<3.0.0,>=2.199.0->fmeval==0.4.0) (3.10.0)\r\n",
      "Requirement already satisfied: tblib<3,>=1.7.0 in /Users/rgatti/miniconda3/envs/fmeval-0-4-0/lib/python3.10/site-packages (from sagemaker<3.0.0,>=2.199.0->fmeval==0.4.0) (2.0.0)\r\n",
      "Requirement already satisfied: docker in /Users/rgatti/miniconda3/envs/fmeval-0-4-0/lib/python3.10/site-packages (from sagemaker<3.0.0,>=2.199.0->fmeval==0.4.0) (7.0.0)\r\n",
      "Requirement already satisfied: scipy>=1.6.0 in /Users/rgatti/miniconda3/envs/fmeval-0-4-0/lib/python3.10/site-packages (from scikit-learn<2.0.0,>=1.3.1->fmeval==0.4.0) (1.12.0)\r\n",
      "Requirement already satisfied: threadpoolctl>=2.0.0 in /Users/rgatti/miniconda3/envs/fmeval-0-4-0/lib/python3.10/site-packages (from scikit-learn<2.0.0,>=1.3.1->fmeval==0.4.0) (3.3.0)\r\n",
      "Requirement already satisfied: nbformat>=5.0.4 in /Users/rgatti/miniconda3/envs/fmeval-0-4-0/lib/python3.10/site-packages (from testbook<0.5.0,>=0.4.2->fmeval==0.4.0) (5.9.2)\r\n",
      "Requirement already satisfied: nbclient>=0.4.0 in /Users/rgatti/miniconda3/envs/fmeval-0-4-0/lib/python3.10/site-packages (from testbook<0.5.0,>=0.4.2->fmeval==0.4.0) (0.8.0)\r\n",
      "Requirement already satisfied: sympy in /Users/rgatti/miniconda3/envs/fmeval-0-4-0/lib/python3.10/site-packages (from torch!=2.0.1,!=2.1.0,>=2.0.0->fmeval==0.4.0) (1.12)\r\n",
      "Requirement already satisfied: networkx in /Users/rgatti/miniconda3/envs/fmeval-0-4-0/lib/python3.10/site-packages (from torch!=2.0.1,!=2.1.0,>=2.0.0->fmeval==0.4.0) (3.2.1)\r\n",
      "Requirement already satisfied: jinja2 in /Users/rgatti/miniconda3/envs/fmeval-0-4-0/lib/python3.10/site-packages (from torch!=2.0.1,!=2.1.0,>=2.0.0->fmeval==0.4.0) (3.1.3)\r\n",
      "Requirement already satisfied: tokenizers<0.19,>=0.14 in /Users/rgatti/miniconda3/envs/fmeval-0-4-0/lib/python3.10/site-packages (from transformers<5.0.0,>=4.36.0->fmeval==0.4.0) (0.15.2)\r\n",
      "Requirement already satisfied: safetensors>=0.4.1 in /Users/rgatti/miniconda3/envs/fmeval-0-4-0/lib/python3.10/site-packages (from transformers<5.0.0,>=4.36.0->fmeval==0.4.0) (0.4.2)\r\n",
      "Requirement already satisfied: botocore<1.35.0,>=1.34.47 in /Users/rgatti/miniconda3/envs/fmeval-0-4-0/lib/python3.10/site-packages (from boto3<2.0,>=1.33.3->sagemaker<3.0.0,>=2.199.0->fmeval==0.4.0) (1.34.47)\r\n",
      "Requirement already satisfied: jmespath<2.0.0,>=0.7.1 in /Users/rgatti/miniconda3/envs/fmeval-0-4-0/lib/python3.10/site-packages (from boto3<2.0,>=1.33.3->sagemaker<3.0.0,>=2.199.0->fmeval==0.4.0) (1.0.1)\r\n",
      "Requirement already satisfied: s3transfer<0.11.0,>=0.10.0 in /Users/rgatti/miniconda3/envs/fmeval-0-4-0/lib/python3.10/site-packages (from boto3<2.0,>=1.33.3->sagemaker<3.0.0,>=2.199.0->fmeval==0.4.0) (0.10.0)\r\n",
      "Requirement already satisfied: pyarrow-hotfix in /Users/rgatti/miniconda3/envs/fmeval-0-4-0/lib/python3.10/site-packages (from datasets>=2.0.0->evaluate<0.5.0,>=0.4.0->fmeval==0.4.0) (0.6)\r\n",
      "Requirement already satisfied: zipp>=0.5 in /Users/rgatti/miniconda3/envs/fmeval-0-4-0/lib/python3.10/site-packages (from importlib-metadata<7.0,>=1.4.0->sagemaker<3.0.0,>=2.199.0->fmeval==0.4.0) (3.17.0)\r\n",
      "Requirement already satisfied: parso<0.9.0,>=0.8.0 in /Users/rgatti/miniconda3/envs/fmeval-0-4-0/lib/python3.10/site-packages (from jedi>=0.16->IPython->fmeval==0.4.0) (0.8.3)\r\n",
      "Requirement already satisfied: fastjsonschema in /Users/rgatti/miniconda3/envs/fmeval-0-4-0/lib/python3.10/site-packages (from nbformat>=5.0.4->testbook<0.5.0,>=0.4.2->fmeval==0.4.0) (2.16.2)\r\n",
      "Requirement already satisfied: jsonschema-specifications>=2023.03.6 in /Users/rgatti/miniconda3/envs/fmeval-0-4-0/lib/python3.10/site-packages (from jsonschema->ray==2.9.1->fmeval==0.4.0) (2023.12.1)\r\n",
      "Requirement already satisfied: referencing>=0.28.4 in /Users/rgatti/miniconda3/envs/fmeval-0-4-0/lib/python3.10/site-packages (from jsonschema->ray==2.9.1->fmeval==0.4.0) (0.33.0)\r\n",
      "Requirement already satisfied: rpds-py>=0.7.1 in /Users/rgatti/miniconda3/envs/fmeval-0-4-0/lib/python3.10/site-packages (from jsonschema->ray==2.9.1->fmeval==0.4.0) (0.10.6)\r\n",
      "Requirement already satisfied: ptyprocess>=0.5 in /Users/rgatti/miniconda3/envs/fmeval-0-4-0/lib/python3.10/site-packages (from pexpect>4.3->IPython->fmeval==0.4.0) (0.7.0)\r\n",
      "Requirement already satisfied: wcwidth in /Users/rgatti/miniconda3/envs/fmeval-0-4-0/lib/python3.10/site-packages (from prompt-toolkit<3.1.0,>=3.0.41->IPython->fmeval==0.4.0) (0.2.13)\r\n",
      "Requirement already satisfied: charset-normalizer<4,>=2 in /Users/rgatti/miniconda3/envs/fmeval-0-4-0/lib/python3.10/site-packages (from requests->ray==2.9.1->fmeval==0.4.0) (2.0.4)\r\n",
      "Requirement already satisfied: idna<4,>=2.5 in /Users/rgatti/miniconda3/envs/fmeval-0-4-0/lib/python3.10/site-packages (from requests->ray==2.9.1->fmeval==0.4.0) (3.4)\r\n",
      "Requirement already satisfied: certifi>=2017.4.17 in /Users/rgatti/miniconda3/envs/fmeval-0-4-0/lib/python3.10/site-packages (from requests->ray==2.9.1->fmeval==0.4.0) (2024.2.2)\r\n",
      "Requirement already satisfied: MarkupSafe>=2.0 in /Users/rgatti/miniconda3/envs/fmeval-0-4-0/lib/python3.10/site-packages (from jinja2->torch!=2.0.1,!=2.1.0,>=2.0.0->fmeval==0.4.0) (2.1.3)\r\n",
      "Requirement already satisfied: ppft>=1.7.6.8 in /Users/rgatti/miniconda3/envs/fmeval-0-4-0/lib/python3.10/site-packages (from pathos->sagemaker<3.0.0,>=2.199.0->fmeval==0.4.0) (1.7.6.8)\r\n",
      "Requirement already satisfied: pox>=0.3.4 in /Users/rgatti/miniconda3/envs/fmeval-0-4-0/lib/python3.10/site-packages (from pathos->sagemaker<3.0.0,>=2.199.0->fmeval==0.4.0) (0.3.4)\r\n",
      "Requirement already satisfied: contextlib2>=0.5.5 in /Users/rgatti/miniconda3/envs/fmeval-0-4-0/lib/python3.10/site-packages (from schema->sagemaker<3.0.0,>=2.199.0->fmeval==0.4.0) (21.6.0)\r\n",
      "Requirement already satisfied: executing in /Users/rgatti/miniconda3/envs/fmeval-0-4-0/lib/python3.10/site-packages (from stack-data->IPython->fmeval==0.4.0) (0.8.3)\r\n",
      "Requirement already satisfied: asttokens in /Users/rgatti/miniconda3/envs/fmeval-0-4-0/lib/python3.10/site-packages (from stack-data->IPython->fmeval==0.4.0) (2.0.5)\r\n",
      "Requirement already satisfied: pure-eval in /Users/rgatti/miniconda3/envs/fmeval-0-4-0/lib/python3.10/site-packages (from stack-data->IPython->fmeval==0.4.0) (0.2.2)\r\n",
      "Requirement already satisfied: mpmath>=0.19 in /Users/rgatti/miniconda3/envs/fmeval-0-4-0/lib/python3.10/site-packages (from sympy->torch!=2.0.1,!=2.1.0,>=2.0.0->fmeval==0.4.0) (1.3.0)\r\n",
      "Requirement already satisfied: sagemaker==2.208 in /Users/rgatti/miniconda3/envs/fmeval-0-4-0/lib/python3.10/site-packages (2.208.0)\r\n",
      "Requirement already satisfied: attrs<24,>=23.1.0 in /Users/rgatti/miniconda3/envs/fmeval-0-4-0/lib/python3.10/site-packages (from sagemaker==2.208) (23.1.0)\r\n",
      "Requirement already satisfied: boto3<2.0,>=1.33.3 in /Users/rgatti/miniconda3/envs/fmeval-0-4-0/lib/python3.10/site-packages (from sagemaker==2.208) (1.34.47)\r\n",
      "Requirement already satisfied: cloudpickle==2.2.1 in /Users/rgatti/miniconda3/envs/fmeval-0-4-0/lib/python3.10/site-packages (from sagemaker==2.208) (2.2.1)\r\n",
      "Requirement already satisfied: google-pasta in /Users/rgatti/miniconda3/envs/fmeval-0-4-0/lib/python3.10/site-packages (from sagemaker==2.208) (0.2.0)\r\n",
      "Requirement already satisfied: numpy<2.0,>=1.9.0 in /Users/rgatti/miniconda3/envs/fmeval-0-4-0/lib/python3.10/site-packages (from sagemaker==2.208) (1.26.4)\r\n",
      "Requirement already satisfied: protobuf<5.0,>=3.12 in /Users/rgatti/miniconda3/envs/fmeval-0-4-0/lib/python3.10/site-packages (from sagemaker==2.208) (4.25.3)\r\n",
      "Requirement already satisfied: smdebug-rulesconfig==1.0.1 in /Users/rgatti/miniconda3/envs/fmeval-0-4-0/lib/python3.10/site-packages (from sagemaker==2.208) (1.0.1)\r\n",
      "Requirement already satisfied: importlib-metadata<7.0,>=1.4.0 in /Users/rgatti/miniconda3/envs/fmeval-0-4-0/lib/python3.10/site-packages (from sagemaker==2.208) (6.11.0)\r\n",
      "Requirement already satisfied: packaging>=20.0 in /Users/rgatti/miniconda3/envs/fmeval-0-4-0/lib/python3.10/site-packages (from sagemaker==2.208) (23.1)\r\n",
      "Requirement already satisfied: pandas in /Users/rgatti/miniconda3/envs/fmeval-0-4-0/lib/python3.10/site-packages (from sagemaker==2.208) (2.1.4)\r\n",
      "Requirement already satisfied: pathos in /Users/rgatti/miniconda3/envs/fmeval-0-4-0/lib/python3.10/site-packages (from sagemaker==2.208) (0.3.2)\r\n",
      "Requirement already satisfied: schema in /Users/rgatti/miniconda3/envs/fmeval-0-4-0/lib/python3.10/site-packages (from sagemaker==2.208) (0.7.5)\r\n",
      "Requirement already satisfied: PyYAML~=6.0 in /Users/rgatti/miniconda3/envs/fmeval-0-4-0/lib/python3.10/site-packages (from sagemaker==2.208) (6.0.1)\r\n",
      "Requirement already satisfied: jsonschema in /Users/rgatti/miniconda3/envs/fmeval-0-4-0/lib/python3.10/site-packages (from sagemaker==2.208) (4.19.2)\r\n",
      "Requirement already satisfied: platformdirs in /Users/rgatti/miniconda3/envs/fmeval-0-4-0/lib/python3.10/site-packages (from sagemaker==2.208) (3.10.0)\r\n",
      "Requirement already satisfied: tblib<3,>=1.7.0 in /Users/rgatti/miniconda3/envs/fmeval-0-4-0/lib/python3.10/site-packages (from sagemaker==2.208) (2.0.0)\r\n",
      "Requirement already satisfied: urllib3<3.0.0,>=1.26.8 in /Users/rgatti/miniconda3/envs/fmeval-0-4-0/lib/python3.10/site-packages (from sagemaker==2.208) (1.26.18)\r\n",
      "Requirement already satisfied: requests in /Users/rgatti/miniconda3/envs/fmeval-0-4-0/lib/python3.10/site-packages (from sagemaker==2.208) (2.32.3)\r\n",
      "Requirement already satisfied: docker in /Users/rgatti/miniconda3/envs/fmeval-0-4-0/lib/python3.10/site-packages (from sagemaker==2.208) (7.0.0)\r\n",
      "Requirement already satisfied: tqdm in /Users/rgatti/miniconda3/envs/fmeval-0-4-0/lib/python3.10/site-packages (from sagemaker==2.208) (4.66.4)\r\n",
      "Requirement already satisfied: psutil in /Users/rgatti/miniconda3/envs/fmeval-0-4-0/lib/python3.10/site-packages (from sagemaker==2.208) (5.9.0)\r\n",
      "Requirement already satisfied: botocore<1.35.0,>=1.34.47 in /Users/rgatti/miniconda3/envs/fmeval-0-4-0/lib/python3.10/site-packages (from boto3<2.0,>=1.33.3->sagemaker==2.208) (1.34.47)\r\n",
      "Requirement already satisfied: jmespath<2.0.0,>=0.7.1 in /Users/rgatti/miniconda3/envs/fmeval-0-4-0/lib/python3.10/site-packages (from boto3<2.0,>=1.33.3->sagemaker==2.208) (1.0.1)\r\n",
      "Requirement already satisfied: s3transfer<0.11.0,>=0.10.0 in /Users/rgatti/miniconda3/envs/fmeval-0-4-0/lib/python3.10/site-packages (from boto3<2.0,>=1.33.3->sagemaker==2.208) (0.10.0)\r\n",
      "Requirement already satisfied: zipp>=0.5 in /Users/rgatti/miniconda3/envs/fmeval-0-4-0/lib/python3.10/site-packages (from importlib-metadata<7.0,>=1.4.0->sagemaker==2.208) (3.17.0)\r\n",
      "Requirement already satisfied: charset-normalizer<4,>=2 in /Users/rgatti/miniconda3/envs/fmeval-0-4-0/lib/python3.10/site-packages (from requests->sagemaker==2.208) (2.0.4)\r\n",
      "Requirement already satisfied: idna<4,>=2.5 in /Users/rgatti/miniconda3/envs/fmeval-0-4-0/lib/python3.10/site-packages (from requests->sagemaker==2.208) (3.4)\r\n",
      "Requirement already satisfied: certifi>=2017.4.17 in /Users/rgatti/miniconda3/envs/fmeval-0-4-0/lib/python3.10/site-packages (from requests->sagemaker==2.208) (2024.2.2)\r\n",
      "Requirement already satisfied: six in /Users/rgatti/miniconda3/envs/fmeval-0-4-0/lib/python3.10/site-packages (from google-pasta->sagemaker==2.208) (1.16.0)\r\n",
      "Requirement already satisfied: jsonschema-specifications>=2023.03.6 in /Users/rgatti/miniconda3/envs/fmeval-0-4-0/lib/python3.10/site-packages (from jsonschema->sagemaker==2.208) (2023.12.1)\r\n",
      "Requirement already satisfied: referencing>=0.28.4 in /Users/rgatti/miniconda3/envs/fmeval-0-4-0/lib/python3.10/site-packages (from jsonschema->sagemaker==2.208) (0.33.0)\r\n",
      "Requirement already satisfied: rpds-py>=0.7.1 in /Users/rgatti/miniconda3/envs/fmeval-0-4-0/lib/python3.10/site-packages (from jsonschema->sagemaker==2.208) (0.10.6)\r\n",
      "Requirement already satisfied: python-dateutil>=2.8.2 in /Users/rgatti/miniconda3/envs/fmeval-0-4-0/lib/python3.10/site-packages (from pandas->sagemaker==2.208) (2.8.2)\r\n",
      "Requirement already satisfied: pytz>=2020.1 in /Users/rgatti/miniconda3/envs/fmeval-0-4-0/lib/python3.10/site-packages (from pandas->sagemaker==2.208) (2023.3.post1)\r\n",
      "Requirement already satisfied: tzdata>=2022.1 in /Users/rgatti/miniconda3/envs/fmeval-0-4-0/lib/python3.10/site-packages (from pandas->sagemaker==2.208) (2024.1)\r\n",
      "Requirement already satisfied: ppft>=1.7.6.8 in /Users/rgatti/miniconda3/envs/fmeval-0-4-0/lib/python3.10/site-packages (from pathos->sagemaker==2.208) (1.7.6.8)\r\n",
      "Requirement already satisfied: dill>=0.3.8 in /Users/rgatti/miniconda3/envs/fmeval-0-4-0/lib/python3.10/site-packages (from pathos->sagemaker==2.208) (0.3.8)\r\n",
      "Requirement already satisfied: pox>=0.3.4 in /Users/rgatti/miniconda3/envs/fmeval-0-4-0/lib/python3.10/site-packages (from pathos->sagemaker==2.208) (0.3.4)\r\n",
      "Requirement already satisfied: multiprocess>=0.70.16 in /Users/rgatti/miniconda3/envs/fmeval-0-4-0/lib/python3.10/site-packages (from pathos->sagemaker==2.208) (0.70.16)\r\n",
      "Requirement already satisfied: contextlib2>=0.5.5 in /Users/rgatti/miniconda3/envs/fmeval-0-4-0/lib/python3.10/site-packages (from schema->sagemaker==2.208) (21.6.0)\r\n"
     ]
    }
   ],
   "source": [
    "!pip3 install fmeval==0.4.0\n",
    "!pip3 install sagemaker==2.208"
   ]
  },
  {
   "cell_type": "code",
   "execution_count": 30,
   "id": "76487ff0709f4921",
   "metadata": {
    "collapsed": false,
    "tags": [],
    "ExecuteTime": {
     "end_time": "2024-06-20T08:10:19.289190Z",
     "start_time": "2024-06-20T08:10:19.271021Z"
    }
   },
   "outputs": [],
   "source": [
    "import sagemaker\n",
    "from sagemaker.workflow.pipeline import Pipeline\n",
    "from sagemaker.workflow.function_step import step\n",
    "from steps.jumpstart_deploy import jumpstart_deploy\n",
    "from steps.jumpstart_finetune import jumpstart_finetune\n",
    "from steps.selection import selection\n",
    "from steps.preprocess import preprocess_chat\n",
    "from steps.evaluation import evaluation\n",
    "from steps.register import register\n",
    "from steps.cleanup import cleanup\n",
    "from steps.utils import create_training_job_name\n",
    "import os\n",
    "\n",
    "os.environ[\"SAGEMAKER_USER_CONFIG_OVERRIDE\"] = os.getcwd()"
   ]
  },
  {
   "cell_type": "markdown",
   "source": [],
   "metadata": {
    "collapsed": false
   },
   "id": "3bd5fc566e9631e2"
  },
  {
   "cell_type": "markdown",
   "id": "4b4d5f58-65e2-4d01-8303-8a2d420e09bf",
   "metadata": {},
   "source": [
    "### Evaluation and Fine-Tuning dataset preparation - preprocess step\n",
    "*output_data_path* will contain the outputs artifacts of the pipeline.\n",
    "We then add **preprocess** as our first pipeline step. This step will take care of any data preprocessing that must be done to create the evaluation and fine-tuning dataset.\n",
    "In this example we are going to download the [SCIQ](https://huggingface.co/datasets/sciq) dataset and create from it two dataset for domain adaptation fine-tuning. We also create the evaluation dataset.\n",
    "The output path of the datasets will be saved into *preprocess_step_ret* object.\n",
    "Keep in mind the *pipeline_name* as it will be used in SageMaker Studio to find our pipeline in the UI.\n",
    "Also keep in mind the path of the S3 bucket used as output for reviewing the output artifacts at the end."
   ]
  },
  {
   "cell_type": "code",
   "execution_count": 31,
   "id": "4538466bfbdc3e26",
   "metadata": {
    "collapsed": false,
    "tags": [],
    "ExecuteTime": {
     "end_time": "2024-06-20T08:10:25.820463Z",
     "start_time": "2024-06-20T08:10:19.295214Z"
    }
   },
   "outputs": [
    {
     "name": "stdout",
     "output_type": "stream",
     "text": [
      "The pipeline name is mlops-model-finetune-evaluate-dft\n",
      "Output S3 bucket: s3://sagemaker-eu-west-1-944771376927/pipelines_examples/mlops-model-finetune-evaluate-dft\n"
     ]
    }
   ],
   "source": [
    "pipeline_name = \"mlops-model-finetune-evaluate-dft\"\n",
    "\n",
    "default_bucket = sagemaker.Session().default_bucket()\n",
    "output_data_path = (\"s3://\"+ default_bucket + \"/pipelines_examples/\" + pipeline_name)\n",
    "\n",
    "# You can add your own evaluation dataset code into this step\n",
    "preprocess_step_ret = step(preprocess_chat, name=\"preprocess\")(output_data_path)\n",
    "\n",
    "print(\"The pipeline name is \"+pipeline_name)\n",
    "# Mark the name of this bucket for reviewing the artifacts generated by this pipeline at the end of the execution\n",
    "print(\"Output S3 bucket: \"+output_data_path)"
   ]
  },
  {
   "cell_type": "markdown",
   "id": "5425f135245e0944",
   "metadata": {
    "collapsed": false
   },
   "source": [
    "### Setup the models from SageMaker Jumpstart to be finetuned with a chat dataset\n",
    "Setup the model_id from SageMaker Jumpstart that we are going to finetune with a chat dataset. We will use the default Jumpstart training parameters. The second model will be used as a baseline with default weights."
   ]
  },
  {
   "cell_type": "code",
   "execution_count": 32,
   "id": "ca692e551ee74f31",
   "metadata": {
    "collapsed": false,
    "ExecuteTime": {
     "end_time": "2024-06-20T08:10:25.823225Z",
     "start_time": "2024-06-20T08:10:25.803465Z"
    }
   },
   "outputs": [],
   "source": [
    "# We setup required model parameters\n",
    "model_1 = {\n",
    "    \"model_id\": \"meta-textgeneration-llama-2-7b\"\n",
    "}\n",
    "model_1[\"model_name\"] = model_1[\"model_id\"]+\"_dft\"\n",
    "\n",
    "model_2 = {\n",
    "    \"model_id\": \"meta-textgeneration-llama-2-7b\",\n",
    "}\n",
    "model_2[\"model_name\"] = model_2[\"model_id\"]+\"_base\"\n",
    "\n",
    "model_list = [model_1, model_2]\n",
    "evaluation_results_ret_list = []\n",
    "deploy_ret_list = []"
   ]
  },
  {
   "cell_type": "markdown",
   "id": "18801dd08ba069f7",
   "metadata": {
    "collapsed": false
   },
   "source": [
    "We are now going to create the pipeline steps. We start with a **finetune** step followed by a **deploy** and **evaluation** steps.\n",
    "The result of evaluation will be saved into *evaluate_ret* object and appended into evaluation_results_ret_list to be used later."
   ]
  },
  {
   "cell_type": "code",
   "execution_count": 33,
   "id": "336a4b0cf9ab3f0f",
   "metadata": {
    "collapsed": false,
    "ExecuteTime": {
     "end_time": "2024-06-20T08:10:25.897433Z",
     "start_time": "2024-06-20T08:10:25.842494Z"
    }
   },
   "outputs": [],
   "source": [
    "finetune_ret = step(jumpstart_finetune, name=\"finetune_\"+model_1[\"model_name\"])(model_1, preprocess_step_ret)\n",
    "\n",
    "# Deploy step is using the output from the finetune step (the training job name)\n",
    "deploy_ret = step(jumpstart_deploy,\n",
    "                                  name=\"deploy_\"+model_1[\"model_name\"])(model_1, finetune_ret)\n",
    "\n",
    "# Evaluation step is using the output from preprocess (the S3 location of the evaluation dataset file) \n",
    "# and the output of the deploy step (the endpoint name)\n",
    "evaluate_ret = step(evaluation,\n",
    "                    name=\"evaluate_\"+model_1[\"model_name\"],\n",
    "                    keep_alive_period_in_seconds=1200,\n",
    "                    )(model_1,\n",
    "                      preprocess_step_ret,\n",
    "                      deploy_ret)\n",
    "\n",
    "evaluation_results_ret_list.append(evaluate_ret)\n",
    "deploy_ret_list.append(deploy_ret)"
   ]
  },
  {
   "cell_type": "markdown",
   "source": [
    "We create the same for the second model, deployed with default weights. We setup a **deploy** step followed by an **evaluation** step.\n",
    "Like before, the result of evaluation will be saved into *evaluate_ret* object and appended into evaluation_results_ret_list to be used later."
   ],
   "metadata": {
    "collapsed": false
   },
   "id": "6c439e4e1e42d8cc"
  },
  {
   "cell_type": "code",
   "execution_count": 34,
   "outputs": [],
   "source": [
    "deploy_ret = step(jumpstart_deploy, name=\"deploy_\"+model_2[\"model_name\"])(model_2)\n",
    "\n",
    "# Evaluation step is using the output from preprocess (the S3 location of the evaluation dataset file) \n",
    "# and the output of the deploy step (the endpoint name)\n",
    "evaluate_ret = step(evaluation,\n",
    "                    name=\"evaluate_\"+model_2[\"model_name\"],\n",
    "                    keep_alive_period_in_seconds=1200,\n",
    "                    )(model_2,\n",
    "                      preprocess_step_ret,\n",
    "                      deploy_ret)\n",
    "\n",
    "evaluation_results_ret_list.append(evaluate_ret)\n",
    "deploy_ret_list.append(deploy_ret)"
   ],
   "metadata": {
    "collapsed": false,
    "ExecuteTime": {
     "end_time": "2024-06-20T08:10:25.921438Z",
     "start_time": "2024-06-20T08:10:25.875745Z"
    }
   },
   "id": "9f76932380c54a5f"
  },
  {
   "cell_type": "markdown",
   "id": "48f23d56614aea50",
   "metadata": {
    "collapsed": false
   },
   "source": [
    "### Select best model and register it into SageMaker Model Registry\n",
    "Now it's time to select best model. To do so we create a pipeline step dedicated to the best model **selection**.\n",
    "The selection is using the output of all the models' evaluation.\n",
    "The output of the **selection** step is the best model name. We will use the best model name in the **register** step.  \n",
    "The **register** step will also need a package group and description name."
   ]
  },
  {
   "cell_type": "code",
   "execution_count": 35,
   "id": "3b05c18a5295ce0a",
   "metadata": {
    "collapsed": false,
    "ExecuteTime": {
     "end_time": "2024-06-20T08:10:25.961543Z",
     "start_time": "2024-06-20T08:10:25.884626Z"
    }
   },
   "outputs": [],
   "source": [
    "# Evaluation step is using the output from the evaluation steps of all the models\n",
    "selection_ret = step(selection, name=\"best_model_selection\")(*evaluation_results_ret_list)\n",
    "\n",
    "# Set a package group name and description\n",
    "model_package_group_name = \"PipelineExampleFinetuneAndCompare\"\n",
    "model_package_group_description = \"Pipeline Example Finetune And Compare\"\n",
    "\n",
    "# We will register the best model in the model register. The best model name is contained in the return object of the selection step\n",
    "register_ret = step(register, name=\"register_model\")(selection_ret,\n",
    "                                                     deploy_ret,\n",
    "                                                     output_data_path,\n",
    "                                                     model_package_group_name,\n",
    "                                                     model_package_group_description,\n",
    "                                                     selection_ret)"
   ]
  },
  {
   "cell_type": "markdown",
   "id": "478f53e262aafb7c",
   "metadata": {},
   "source": [
    "### Cleanup\n",
    "The last pipeline step is dedicated to cleanup all the resource that we are going to instantiate with the pipeline inside a **cleanup** step"
   ]
  },
  {
   "cell_type": "code",
   "execution_count": 36,
   "id": "71735d24ab99ad89",
   "metadata": {
    "collapsed": false,
    "tags": [],
    "ExecuteTime": {
     "end_time": "2024-06-20T08:10:26.015184Z",
     "start_time": "2024-06-20T08:10:25.915715Z"
    }
   },
   "outputs": [],
   "source": [
    "# We append register_ret to make cleanup step dependent on register step\n",
    "cleanup_ret = step(cleanup, name=\"cleanup\")(register_ret, *deploy_ret_list)"
   ]
  },
  {
   "cell_type": "markdown",
   "id": "9ce0babb-70c2-4b2b-bde8-f0986109fde6",
   "metadata": {},
   "source": [
    "### Creating and launching the pipeline\n",
    "We are finally ready to create and launch the pipeline but before doing that we will need to create a requirements.txt file.\n",
    "As a best practice we are reading the current sagemaker library version that we are using to create the pipeline and set it as a requirement into the requirement file.\n",
    "Keeping the same sagemaker version in the creation and running phase will allow us to avoid any deserialization issues."
   ]
  },
  {
   "cell_type": "code",
   "execution_count": 37,
   "id": "8c682ddc-f4fc-4ef4-8081-d753032f2888",
   "metadata": {
    "tags": [],
    "ExecuteTime": {
     "end_time": "2024-06-20T08:10:26.017724Z",
     "start_time": "2024-06-20T08:10:25.928404Z"
    }
   },
   "outputs": [],
   "source": [
    "if os.path.exists(\"requirements.txt\"):\n",
    "    os.remove(\"requirements.txt\")\n",
    "\n",
    "with open('requirements.txt', 'w') as req_file:\n",
    "    req_file.write(\"fmeval==0.4.0\\n\")\n",
    "    req_file.write(\"sagemaker==\" + str(sagemaker.__version__) + \"\\n\")\n",
    "    req_file.write(\"datasets\\n\")"
   ]
  },
  {
   "cell_type": "markdown",
   "id": "a5b5abfcc508e191",
   "metadata": {},
   "source": [
    "In the last cell of this notebook we are creating the pipeline and serializing it to S3. \n",
    "Don't forget to attach the execution role with sufficient permission and the return results from the last steps of our pipeline.\n",
    "We are now ready to start the pipeline execution!"
   ]
  },
  {
   "cell_type": "code",
   "execution_count": 38,
   "id": "e8f091649f823362",
   "metadata": {
    "collapsed": false,
    "ExecuteTime": {
     "end_time": "2024-06-20T08:11:36.106815Z",
     "start_time": "2024-06-20T08:10:25.940366Z"
    }
   },
   "outputs": [
    {
     "name": "stdout",
     "output_type": "stream",
     "text": [
      "sagemaker.config INFO - Applied value from config key = SageMaker.PythonSDK.Modules.RemoteFunction.Dependencies\n",
      "sagemaker.config INFO - Applied value from config key = SageMaker.PythonSDK.Modules.RemoteFunction.IncludeLocalWorkDir\n",
      "sagemaker.config INFO - Applied value from config key = SageMaker.PythonSDK.Modules.RemoteFunction.CustomFileFilter.IgnoreNamePatterns\n",
      "sagemaker.config INFO - Applied value from config key = SageMaker.PythonSDK.Modules.RemoteFunction.InstanceType\n",
      "sagemaker.config INFO - Applied value from config key = SageMaker.PythonSDK.Modules.RemoteFunction.RoleArn\n"
     ]
    },
    {
     "name": "stderr",
     "output_type": "stream",
     "text": [
      "2024-06-20 08:10:39,078 sagemaker.remote_function INFO     Uploading serialized function code to s3://sagemaker-eu-west-1-944771376927/mlops-model-finetune-evaluate-dft/cleanup/2024-06-20-08-10-27-958/function\n",
      "2024-06-20 08:10:40,108 sagemaker.remote_function INFO     Uploading serialized function arguments to s3://sagemaker-eu-west-1-944771376927/mlops-model-finetune-evaluate-dft/cleanup/2024-06-20-08-10-27-958/arguments\n",
      "2024-06-20 08:10:47,960 sagemaker.remote_function INFO     Copied dependencies file at './requirements.txt' to '/var/folders/7j/mzj4jq4x6qlc63s7c977g8pc0000gs/T/tmp1kad9j_m/requirements.txt'\n",
      "2024-06-20 08:10:48,409 sagemaker.remote_function INFO     Successfully uploaded dependencies and pre execution scripts to 's3://sagemaker-eu-west-1-944771376927/mlops-model-finetune-evaluate-dft/cleanup/2024-06-20-08-10-27-958/pre_exec_script_and_dependencies'\n",
      "2024-06-20 08:10:48,433 sagemaker.remote_function INFO     Copied user workspace to '/var/folders/7j/mzj4jq4x6qlc63s7c977g8pc0000gs/T/tmpxpp4doey/temp_workspace/sagemaker_remote_function_workspace'\n",
      "2024-06-20 08:10:48,466 sagemaker.remote_function INFO     Successfully created workdir archive at '/var/folders/7j/mzj4jq4x6qlc63s7c977g8pc0000gs/T/tmpxpp4doey/workspace.zip'\n",
      "2024-06-20 08:10:49,422 sagemaker.remote_function INFO     Successfully uploaded workdir to 's3://sagemaker-eu-west-1-944771376927/mlops-model-finetune-evaluate-dft/sm_rf_user_ws/2024-06-20-08-10-27-958/workspace.zip'\n",
      "WARNING:sagemaker.workflow.utilities:Popping out 'TrainingJobName' from the pipeline definition by default since it will be overridden at pipeline execution time. Please utilize the PipelineDefinitionConfig to persist this field in the pipeline definition if desired.\n"
     ]
    },
    {
     "name": "stdout",
     "output_type": "stream",
     "text": [
      "sagemaker.config INFO - Applied value from config key = SageMaker.PythonSDK.Modules.RemoteFunction.Dependencies\n",
      "sagemaker.config INFO - Applied value from config key = SageMaker.PythonSDK.Modules.RemoteFunction.IncludeLocalWorkDir\n",
      "sagemaker.config INFO - Applied value from config key = SageMaker.PythonSDK.Modules.RemoteFunction.CustomFileFilter.IgnoreNamePatterns\n",
      "sagemaker.config INFO - Applied value from config key = SageMaker.PythonSDK.Modules.RemoteFunction.InstanceType\n",
      "sagemaker.config INFO - Applied value from config key = SageMaker.PythonSDK.Modules.RemoteFunction.RoleArn\n"
     ]
    },
    {
     "name": "stderr",
     "output_type": "stream",
     "text": [
      "2024-06-20 08:10:52,361 sagemaker.remote_function INFO     Uploading serialized function code to s3://sagemaker-eu-west-1-944771376927/mlops-model-finetune-evaluate-dft/register_model/2024-06-20-08-10-27-958/function\n",
      "2024-06-20 08:10:53,091 sagemaker.remote_function INFO     Uploading serialized function arguments to s3://sagemaker-eu-west-1-944771376927/mlops-model-finetune-evaluate-dft/register_model/2024-06-20-08-10-27-958/arguments\n",
      "2024-06-20 08:10:54,478 sagemaker.remote_function INFO     Copied dependencies file at './requirements.txt' to '/var/folders/7j/mzj4jq4x6qlc63s7c977g8pc0000gs/T/tmpyosdbe_k/requirements.txt'\n",
      "2024-06-20 08:10:54,947 sagemaker.remote_function INFO     Successfully uploaded dependencies and pre execution scripts to 's3://sagemaker-eu-west-1-944771376927/mlops-model-finetune-evaluate-dft/register_model/2024-06-20-08-10-27-958/pre_exec_script_and_dependencies'\n",
      "WARNING:sagemaker.workflow.utilities:Popping out 'TrainingJobName' from the pipeline definition by default since it will be overridden at pipeline execution time. Please utilize the PipelineDefinitionConfig to persist this field in the pipeline definition if desired.\n"
     ]
    },
    {
     "name": "stdout",
     "output_type": "stream",
     "text": [
      "sagemaker.config INFO - Applied value from config key = SageMaker.PythonSDK.Modules.RemoteFunction.Dependencies\n",
      "sagemaker.config INFO - Applied value from config key = SageMaker.PythonSDK.Modules.RemoteFunction.IncludeLocalWorkDir\n",
      "sagemaker.config INFO - Applied value from config key = SageMaker.PythonSDK.Modules.RemoteFunction.CustomFileFilter.IgnoreNamePatterns\n",
      "sagemaker.config INFO - Applied value from config key = SageMaker.PythonSDK.Modules.RemoteFunction.InstanceType\n",
      "sagemaker.config INFO - Applied value from config key = SageMaker.PythonSDK.Modules.RemoteFunction.RoleArn\n"
     ]
    },
    {
     "name": "stderr",
     "output_type": "stream",
     "text": [
      "2024-06-20 08:10:57,643 sagemaker.remote_function INFO     Uploading serialized function code to s3://sagemaker-eu-west-1-944771376927/mlops-model-finetune-evaluate-dft/deploy_llama-2-7b-dft/2024-06-20-08-10-27-958/function\n",
      "2024-06-20 08:10:58,628 sagemaker.remote_function INFO     Uploading serialized function arguments to s3://sagemaker-eu-west-1-944771376927/mlops-model-finetune-evaluate-dft/deploy_llama-2-7b-dft/2024-06-20-08-10-27-958/arguments\n",
      "2024-06-20 08:10:59,104 sagemaker.remote_function INFO     Copied dependencies file at './requirements.txt' to '/var/folders/7j/mzj4jq4x6qlc63s7c977g8pc0000gs/T/tmpc4brcpkd/requirements.txt'\n",
      "2024-06-20 08:10:59,329 sagemaker.remote_function INFO     Successfully uploaded dependencies and pre execution scripts to 's3://sagemaker-eu-west-1-944771376927/mlops-model-finetune-evaluate-dft/deploy_llama-2-7b-dft/2024-06-20-08-10-27-958/pre_exec_script_and_dependencies'\n",
      "WARNING:sagemaker.workflow.utilities:Popping out 'TrainingJobName' from the pipeline definition by default since it will be overridden at pipeline execution time. Please utilize the PipelineDefinitionConfig to persist this field in the pipeline definition if desired.\n"
     ]
    },
    {
     "name": "stdout",
     "output_type": "stream",
     "text": [
      "sagemaker.config INFO - Applied value from config key = SageMaker.PythonSDK.Modules.RemoteFunction.Dependencies\n",
      "sagemaker.config INFO - Applied value from config key = SageMaker.PythonSDK.Modules.RemoteFunction.IncludeLocalWorkDir\n",
      "sagemaker.config INFO - Applied value from config key = SageMaker.PythonSDK.Modules.RemoteFunction.CustomFileFilter.IgnoreNamePatterns\n",
      "sagemaker.config INFO - Applied value from config key = SageMaker.PythonSDK.Modules.RemoteFunction.InstanceType\n",
      "sagemaker.config INFO - Applied value from config key = SageMaker.PythonSDK.Modules.RemoteFunction.RoleArn\n"
     ]
    },
    {
     "name": "stderr",
     "output_type": "stream",
     "text": [
      "2024-06-20 08:11:01,691 sagemaker.remote_function INFO     Uploading serialized function code to s3://sagemaker-eu-west-1-944771376927/mlops-model-finetune-evaluate-dft/deploy_llama-2-7b/2024-06-20-08-10-27-958/function\n",
      "2024-06-20 08:11:02,974 sagemaker.remote_function INFO     Uploading serialized function arguments to s3://sagemaker-eu-west-1-944771376927/mlops-model-finetune-evaluate-dft/deploy_llama-2-7b/2024-06-20-08-10-27-958/arguments\n",
      "2024-06-20 08:11:03,410 sagemaker.remote_function INFO     Copied dependencies file at './requirements.txt' to '/var/folders/7j/mzj4jq4x6qlc63s7c977g8pc0000gs/T/tmp_p8gw427/requirements.txt'\n",
      "2024-06-20 08:11:03,570 sagemaker.remote_function INFO     Successfully uploaded dependencies and pre execution scripts to 's3://sagemaker-eu-west-1-944771376927/mlops-model-finetune-evaluate-dft/deploy_llama-2-7b/2024-06-20-08-10-27-958/pre_exec_script_and_dependencies'\n",
      "WARNING:sagemaker.workflow.utilities:Popping out 'TrainingJobName' from the pipeline definition by default since it will be overridden at pipeline execution time. Please utilize the PipelineDefinitionConfig to persist this field in the pipeline definition if desired.\n"
     ]
    },
    {
     "name": "stdout",
     "output_type": "stream",
     "text": [
      "sagemaker.config INFO - Applied value from config key = SageMaker.PythonSDK.Modules.RemoteFunction.Dependencies\n",
      "sagemaker.config INFO - Applied value from config key = SageMaker.PythonSDK.Modules.RemoteFunction.IncludeLocalWorkDir\n",
      "sagemaker.config INFO - Applied value from config key = SageMaker.PythonSDK.Modules.RemoteFunction.CustomFileFilter.IgnoreNamePatterns\n",
      "sagemaker.config INFO - Applied value from config key = SageMaker.PythonSDK.Modules.RemoteFunction.InstanceType\n",
      "sagemaker.config INFO - Applied value from config key = SageMaker.PythonSDK.Modules.RemoteFunction.RoleArn\n"
     ]
    },
    {
     "name": "stderr",
     "output_type": "stream",
     "text": [
      "2024-06-20 08:11:08,872 sagemaker.remote_function INFO     Uploading serialized function code to s3://sagemaker-eu-west-1-944771376927/mlops-model-finetune-evaluate-dft/best_model_selection/2024-06-20-08-10-27-958/function\n",
      "2024-06-20 08:11:09,424 sagemaker.remote_function INFO     Uploading serialized function arguments to s3://sagemaker-eu-west-1-944771376927/mlops-model-finetune-evaluate-dft/best_model_selection/2024-06-20-08-10-27-958/arguments\n",
      "2024-06-20 08:11:10,042 sagemaker.remote_function INFO     Copied dependencies file at './requirements.txt' to '/var/folders/7j/mzj4jq4x6qlc63s7c977g8pc0000gs/T/tmpkr0tkv2y/requirements.txt'\n",
      "2024-06-20 08:11:10,360 sagemaker.remote_function INFO     Successfully uploaded dependencies and pre execution scripts to 's3://sagemaker-eu-west-1-944771376927/mlops-model-finetune-evaluate-dft/best_model_selection/2024-06-20-08-10-27-958/pre_exec_script_and_dependencies'\n",
      "WARNING:sagemaker.workflow.utilities:Popping out 'TrainingJobName' from the pipeline definition by default since it will be overridden at pipeline execution time. Please utilize the PipelineDefinitionConfig to persist this field in the pipeline definition if desired.\n"
     ]
    },
    {
     "name": "stdout",
     "output_type": "stream",
     "text": [
      "sagemaker.config INFO - Applied value from config key = SageMaker.PythonSDK.Modules.RemoteFunction.Dependencies\n",
      "sagemaker.config INFO - Applied value from config key = SageMaker.PythonSDK.Modules.RemoteFunction.IncludeLocalWorkDir\n",
      "sagemaker.config INFO - Applied value from config key = SageMaker.PythonSDK.Modules.RemoteFunction.CustomFileFilter.IgnoreNamePatterns\n",
      "sagemaker.config INFO - Applied value from config key = SageMaker.PythonSDK.Modules.RemoteFunction.InstanceType\n",
      "sagemaker.config INFO - Applied value from config key = SageMaker.PythonSDK.Modules.RemoteFunction.RoleArn\n"
     ]
    },
    {
     "name": "stderr",
     "output_type": "stream",
     "text": [
      "2024-06-20 08:11:12,536 sagemaker.remote_function INFO     Uploading serialized function code to s3://sagemaker-eu-west-1-944771376927/mlops-model-finetune-evaluate-dft/finetune_llama-2-7b-dft/2024-06-20-08-10-27-958/function\n",
      "2024-06-20 08:11:12,848 sagemaker.remote_function INFO     Uploading serialized function arguments to s3://sagemaker-eu-west-1-944771376927/mlops-model-finetune-evaluate-dft/finetune_llama-2-7b-dft/2024-06-20-08-10-27-958/arguments\n",
      "2024-06-20 08:11:13,219 sagemaker.remote_function INFO     Copied dependencies file at './requirements.txt' to '/var/folders/7j/mzj4jq4x6qlc63s7c977g8pc0000gs/T/tmpctgtia__/requirements.txt'\n",
      "2024-06-20 08:11:13,395 sagemaker.remote_function INFO     Successfully uploaded dependencies and pre execution scripts to 's3://sagemaker-eu-west-1-944771376927/mlops-model-finetune-evaluate-dft/finetune_llama-2-7b-dft/2024-06-20-08-10-27-958/pre_exec_script_and_dependencies'\n",
      "WARNING:sagemaker.workflow.utilities:Popping out 'TrainingJobName' from the pipeline definition by default since it will be overridden at pipeline execution time. Please utilize the PipelineDefinitionConfig to persist this field in the pipeline definition if desired.\n"
     ]
    },
    {
     "name": "stdout",
     "output_type": "stream",
     "text": [
      "sagemaker.config INFO - Applied value from config key = SageMaker.PythonSDK.Modules.RemoteFunction.Dependencies\n",
      "sagemaker.config INFO - Applied value from config key = SageMaker.PythonSDK.Modules.RemoteFunction.IncludeLocalWorkDir\n",
      "sagemaker.config INFO - Applied value from config key = SageMaker.PythonSDK.Modules.RemoteFunction.CustomFileFilter.IgnoreNamePatterns\n",
      "sagemaker.config INFO - Applied value from config key = SageMaker.PythonSDK.Modules.RemoteFunction.InstanceType\n",
      "sagemaker.config INFO - Applied value from config key = SageMaker.PythonSDK.Modules.RemoteFunction.RoleArn\n"
     ]
    },
    {
     "name": "stderr",
     "output_type": "stream",
     "text": [
      "2024-06-20 08:11:15,537 sagemaker.remote_function INFO     Uploading serialized function code to s3://sagemaker-eu-west-1-944771376927/mlops-model-finetune-evaluate-dft/evaluate_llama-2-7b-dft/2024-06-20-08-10-27-958/function\n",
      "2024-06-20 08:11:15,885 sagemaker.remote_function INFO     Uploading serialized function arguments to s3://sagemaker-eu-west-1-944771376927/mlops-model-finetune-evaluate-dft/evaluate_llama-2-7b-dft/2024-06-20-08-10-27-958/arguments\n",
      "2024-06-20 08:11:16,234 sagemaker.remote_function INFO     Copied dependencies file at './requirements.txt' to '/var/folders/7j/mzj4jq4x6qlc63s7c977g8pc0000gs/T/tmpepssr__j/requirements.txt'\n",
      "2024-06-20 08:11:16,513 sagemaker.remote_function INFO     Successfully uploaded dependencies and pre execution scripts to 's3://sagemaker-eu-west-1-944771376927/mlops-model-finetune-evaluate-dft/evaluate_llama-2-7b-dft/2024-06-20-08-10-27-958/pre_exec_script_and_dependencies'\n",
      "WARNING:sagemaker.workflow.utilities:Popping out 'TrainingJobName' from the pipeline definition by default since it will be overridden at pipeline execution time. Please utilize the PipelineDefinitionConfig to persist this field in the pipeline definition if desired.\n"
     ]
    },
    {
     "name": "stdout",
     "output_type": "stream",
     "text": [
      "sagemaker.config INFO - Applied value from config key = SageMaker.PythonSDK.Modules.RemoteFunction.Dependencies\n",
      "sagemaker.config INFO - Applied value from config key = SageMaker.PythonSDK.Modules.RemoteFunction.IncludeLocalWorkDir\n",
      "sagemaker.config INFO - Applied value from config key = SageMaker.PythonSDK.Modules.RemoteFunction.CustomFileFilter.IgnoreNamePatterns\n",
      "sagemaker.config INFO - Applied value from config key = SageMaker.PythonSDK.Modules.RemoteFunction.InstanceType\n",
      "sagemaker.config INFO - Applied value from config key = SageMaker.PythonSDK.Modules.RemoteFunction.RoleArn\n"
     ]
    },
    {
     "name": "stderr",
     "output_type": "stream",
     "text": [
      "2024-06-20 08:11:19,062 sagemaker.remote_function INFO     Uploading serialized function code to s3://sagemaker-eu-west-1-944771376927/mlops-model-finetune-evaluate-dft/evaluate_llama-2-7b/2024-06-20-08-10-27-958/function\n",
      "2024-06-20 08:11:19,540 sagemaker.remote_function INFO     Uploading serialized function arguments to s3://sagemaker-eu-west-1-944771376927/mlops-model-finetune-evaluate-dft/evaluate_llama-2-7b/2024-06-20-08-10-27-958/arguments\n",
      "2024-06-20 08:11:19,959 sagemaker.remote_function INFO     Copied dependencies file at './requirements.txt' to '/var/folders/7j/mzj4jq4x6qlc63s7c977g8pc0000gs/T/tmpjnddn6_h/requirements.txt'\n",
      "2024-06-20 08:11:20,146 sagemaker.remote_function INFO     Successfully uploaded dependencies and pre execution scripts to 's3://sagemaker-eu-west-1-944771376927/mlops-model-finetune-evaluate-dft/evaluate_llama-2-7b/2024-06-20-08-10-27-958/pre_exec_script_and_dependencies'\n",
      "WARNING:sagemaker.workflow.utilities:Popping out 'TrainingJobName' from the pipeline definition by default since it will be overridden at pipeline execution time. Please utilize the PipelineDefinitionConfig to persist this field in the pipeline definition if desired.\n"
     ]
    },
    {
     "name": "stdout",
     "output_type": "stream",
     "text": [
      "sagemaker.config INFO - Applied value from config key = SageMaker.PythonSDK.Modules.RemoteFunction.Dependencies\n",
      "sagemaker.config INFO - Applied value from config key = SageMaker.PythonSDK.Modules.RemoteFunction.IncludeLocalWorkDir\n",
      "sagemaker.config INFO - Applied value from config key = SageMaker.PythonSDK.Modules.RemoteFunction.CustomFileFilter.IgnoreNamePatterns\n",
      "sagemaker.config INFO - Applied value from config key = SageMaker.PythonSDK.Modules.RemoteFunction.InstanceType\n",
      "sagemaker.config INFO - Applied value from config key = SageMaker.PythonSDK.Modules.RemoteFunction.RoleArn\n"
     ]
    },
    {
     "name": "stderr",
     "output_type": "stream",
     "text": [
      "2024-06-20 08:11:22,723 sagemaker.remote_function INFO     Uploading serialized function code to s3://sagemaker-eu-west-1-944771376927/mlops-model-finetune-evaluate-dft/preprocess/2024-06-20-08-10-27-958/function\n",
      "2024-06-20 08:11:23,202 sagemaker.remote_function INFO     Uploading serialized function arguments to s3://sagemaker-eu-west-1-944771376927/mlops-model-finetune-evaluate-dft/preprocess/2024-06-20-08-10-27-958/arguments\n",
      "2024-06-20 08:11:23,522 sagemaker.remote_function INFO     Copied dependencies file at './requirements.txt' to '/var/folders/7j/mzj4jq4x6qlc63s7c977g8pc0000gs/T/tmprfezwz_j/requirements.txt'\n",
      "2024-06-20 08:11:23,843 sagemaker.remote_function INFO     Successfully uploaded dependencies and pre execution scripts to 's3://sagemaker-eu-west-1-944771376927/mlops-model-finetune-evaluate-dft/preprocess/2024-06-20-08-10-27-958/pre_exec_script_and_dependencies'\n",
      "WARNING:sagemaker.workflow.utilities:Popping out 'TrainingJobName' from the pipeline definition by default since it will be overridden at pipeline execution time. Please utilize the PipelineDefinitionConfig to persist this field in the pipeline definition if desired.\n",
      "2024-06-20 08:11:24,955 sagemaker.remote_function INFO     Uploading serialized function code to s3://sagemaker-eu-west-1-944771376927/mlops-model-finetune-evaluate-dft/cleanup/2024-06-20-08-11-24-955/function\n",
      "2024-06-20 08:11:25,281 sagemaker.remote_function INFO     Uploading serialized function arguments to s3://sagemaker-eu-west-1-944771376927/mlops-model-finetune-evaluate-dft/cleanup/2024-06-20-08-11-24-955/arguments\n",
      "2024-06-20 08:11:26,356 sagemaker.remote_function INFO     Copied dependencies file at './requirements.txt' to '/var/folders/7j/mzj4jq4x6qlc63s7c977g8pc0000gs/T/tmptrd395x3/requirements.txt'\n",
      "2024-06-20 08:11:26,522 sagemaker.remote_function INFO     Successfully uploaded dependencies and pre execution scripts to 's3://sagemaker-eu-west-1-944771376927/mlops-model-finetune-evaluate-dft/cleanup/2024-06-20-08-11-24-955/pre_exec_script_and_dependencies'\n",
      "2024-06-20 08:11:26,543 sagemaker.remote_function INFO     Copied user workspace to '/var/folders/7j/mzj4jq4x6qlc63s7c977g8pc0000gs/T/tmphgahvbsh/temp_workspace/sagemaker_remote_function_workspace'\n",
      "2024-06-20 08:11:26,551 sagemaker.remote_function INFO     Successfully created workdir archive at '/var/folders/7j/mzj4jq4x6qlc63s7c977g8pc0000gs/T/tmphgahvbsh/workspace.zip'\n",
      "2024-06-20 08:11:26,812 sagemaker.remote_function INFO     Successfully uploaded workdir to 's3://sagemaker-eu-west-1-944771376927/mlops-model-finetune-evaluate-dft/sm_rf_user_ws/2024-06-20-08-11-24-955/workspace.zip'\n",
      "WARNING:sagemaker.workflow.utilities:Popping out 'TrainingJobName' from the pipeline definition by default since it will be overridden at pipeline execution time. Please utilize the PipelineDefinitionConfig to persist this field in the pipeline definition if desired.\n",
      "2024-06-20 08:11:26,826 sagemaker.remote_function INFO     Uploading serialized function code to s3://sagemaker-eu-west-1-944771376927/mlops-model-finetune-evaluate-dft/register_model/2024-06-20-08-11-24-955/function\n",
      "2024-06-20 08:11:27,157 sagemaker.remote_function INFO     Uploading serialized function arguments to s3://sagemaker-eu-west-1-944771376927/mlops-model-finetune-evaluate-dft/register_model/2024-06-20-08-11-24-955/arguments\n",
      "2024-06-20 08:11:27,481 sagemaker.remote_function INFO     Copied dependencies file at './requirements.txt' to '/var/folders/7j/mzj4jq4x6qlc63s7c977g8pc0000gs/T/tmp1c95xdbp/requirements.txt'\n",
      "2024-06-20 08:11:27,655 sagemaker.remote_function INFO     Successfully uploaded dependencies and pre execution scripts to 's3://sagemaker-eu-west-1-944771376927/mlops-model-finetune-evaluate-dft/register_model/2024-06-20-08-11-24-955/pre_exec_script_and_dependencies'\n",
      "WARNING:sagemaker.workflow.utilities:Popping out 'TrainingJobName' from the pipeline definition by default since it will be overridden at pipeline execution time. Please utilize the PipelineDefinitionConfig to persist this field in the pipeline definition if desired.\n",
      "2024-06-20 08:11:27,661 sagemaker.remote_function INFO     Uploading serialized function code to s3://sagemaker-eu-west-1-944771376927/mlops-model-finetune-evaluate-dft/deploy_llama-2-7b-dft/2024-06-20-08-11-24-955/function\n",
      "2024-06-20 08:11:28,013 sagemaker.remote_function INFO     Uploading serialized function arguments to s3://sagemaker-eu-west-1-944771376927/mlops-model-finetune-evaluate-dft/deploy_llama-2-7b-dft/2024-06-20-08-11-24-955/arguments\n",
      "2024-06-20 08:11:28,357 sagemaker.remote_function INFO     Copied dependencies file at './requirements.txt' to '/var/folders/7j/mzj4jq4x6qlc63s7c977g8pc0000gs/T/tmpbsi4oc94/requirements.txt'\n",
      "2024-06-20 08:11:28,533 sagemaker.remote_function INFO     Successfully uploaded dependencies and pre execution scripts to 's3://sagemaker-eu-west-1-944771376927/mlops-model-finetune-evaluate-dft/deploy_llama-2-7b-dft/2024-06-20-08-11-24-955/pre_exec_script_and_dependencies'\n",
      "WARNING:sagemaker.workflow.utilities:Popping out 'TrainingJobName' from the pipeline definition by default since it will be overridden at pipeline execution time. Please utilize the PipelineDefinitionConfig to persist this field in the pipeline definition if desired.\n",
      "2024-06-20 08:11:28,537 sagemaker.remote_function INFO     Uploading serialized function code to s3://sagemaker-eu-west-1-944771376927/mlops-model-finetune-evaluate-dft/deploy_llama-2-7b/2024-06-20-08-11-24-955/function\n",
      "2024-06-20 08:11:28,848 sagemaker.remote_function INFO     Uploading serialized function arguments to s3://sagemaker-eu-west-1-944771376927/mlops-model-finetune-evaluate-dft/deploy_llama-2-7b/2024-06-20-08-11-24-955/arguments\n",
      "2024-06-20 08:11:29,200 sagemaker.remote_function INFO     Copied dependencies file at './requirements.txt' to '/var/folders/7j/mzj4jq4x6qlc63s7c977g8pc0000gs/T/tmp17ua1e0u/requirements.txt'\n",
      "2024-06-20 08:11:29,379 sagemaker.remote_function INFO     Successfully uploaded dependencies and pre execution scripts to 's3://sagemaker-eu-west-1-944771376927/mlops-model-finetune-evaluate-dft/deploy_llama-2-7b/2024-06-20-08-11-24-955/pre_exec_script_and_dependencies'\n",
      "WARNING:sagemaker.workflow.utilities:Popping out 'TrainingJobName' from the pipeline definition by default since it will be overridden at pipeline execution time. Please utilize the PipelineDefinitionConfig to persist this field in the pipeline definition if desired.\n",
      "2024-06-20 08:11:29,389 sagemaker.remote_function INFO     Uploading serialized function code to s3://sagemaker-eu-west-1-944771376927/mlops-model-finetune-evaluate-dft/best_model_selection/2024-06-20-08-11-24-955/function\n",
      "2024-06-20 08:11:29,738 sagemaker.remote_function INFO     Uploading serialized function arguments to s3://sagemaker-eu-west-1-944771376927/mlops-model-finetune-evaluate-dft/best_model_selection/2024-06-20-08-11-24-955/arguments\n",
      "2024-06-20 08:11:30,066 sagemaker.remote_function INFO     Copied dependencies file at './requirements.txt' to '/var/folders/7j/mzj4jq4x6qlc63s7c977g8pc0000gs/T/tmp1pc2x2nk/requirements.txt'\n",
      "2024-06-20 08:11:30,251 sagemaker.remote_function INFO     Successfully uploaded dependencies and pre execution scripts to 's3://sagemaker-eu-west-1-944771376927/mlops-model-finetune-evaluate-dft/best_model_selection/2024-06-20-08-11-24-955/pre_exec_script_and_dependencies'\n",
      "WARNING:sagemaker.workflow.utilities:Popping out 'TrainingJobName' from the pipeline definition by default since it will be overridden at pipeline execution time. Please utilize the PipelineDefinitionConfig to persist this field in the pipeline definition if desired.\n",
      "2024-06-20 08:11:30,254 sagemaker.remote_function INFO     Uploading serialized function code to s3://sagemaker-eu-west-1-944771376927/mlops-model-finetune-evaluate-dft/finetune_llama-2-7b-dft/2024-06-20-08-11-24-955/function\n",
      "2024-06-20 08:11:31,637 sagemaker.remote_function INFO     Uploading serialized function arguments to s3://sagemaker-eu-west-1-944771376927/mlops-model-finetune-evaluate-dft/finetune_llama-2-7b-dft/2024-06-20-08-11-24-955/arguments\n",
      "2024-06-20 08:11:32,017 sagemaker.remote_function INFO     Copied dependencies file at './requirements.txt' to '/var/folders/7j/mzj4jq4x6qlc63s7c977g8pc0000gs/T/tmp4gft9llr/requirements.txt'\n",
      "2024-06-20 08:11:32,196 sagemaker.remote_function INFO     Successfully uploaded dependencies and pre execution scripts to 's3://sagemaker-eu-west-1-944771376927/mlops-model-finetune-evaluate-dft/finetune_llama-2-7b-dft/2024-06-20-08-11-24-955/pre_exec_script_and_dependencies'\n",
      "WARNING:sagemaker.workflow.utilities:Popping out 'TrainingJobName' from the pipeline definition by default since it will be overridden at pipeline execution time. Please utilize the PipelineDefinitionConfig to persist this field in the pipeline definition if desired.\n",
      "2024-06-20 08:11:32,200 sagemaker.remote_function INFO     Uploading serialized function code to s3://sagemaker-eu-west-1-944771376927/mlops-model-finetune-evaluate-dft/evaluate_llama-2-7b-dft/2024-06-20-08-11-24-955/function\n",
      "2024-06-20 08:11:32,628 sagemaker.remote_function INFO     Uploading serialized function arguments to s3://sagemaker-eu-west-1-944771376927/mlops-model-finetune-evaluate-dft/evaluate_llama-2-7b-dft/2024-06-20-08-11-24-955/arguments\n",
      "2024-06-20 08:11:32,950 sagemaker.remote_function INFO     Copied dependencies file at './requirements.txt' to '/var/folders/7j/mzj4jq4x6qlc63s7c977g8pc0000gs/T/tmpmwp7ghs0/requirements.txt'\n",
      "2024-06-20 08:11:33,115 sagemaker.remote_function INFO     Successfully uploaded dependencies and pre execution scripts to 's3://sagemaker-eu-west-1-944771376927/mlops-model-finetune-evaluate-dft/evaluate_llama-2-7b-dft/2024-06-20-08-11-24-955/pre_exec_script_and_dependencies'\n",
      "WARNING:sagemaker.workflow.utilities:Popping out 'TrainingJobName' from the pipeline definition by default since it will be overridden at pipeline execution time. Please utilize the PipelineDefinitionConfig to persist this field in the pipeline definition if desired.\n",
      "2024-06-20 08:11:33,121 sagemaker.remote_function INFO     Uploading serialized function code to s3://sagemaker-eu-west-1-944771376927/mlops-model-finetune-evaluate-dft/evaluate_llama-2-7b/2024-06-20-08-11-24-955/function\n",
      "2024-06-20 08:11:33,464 sagemaker.remote_function INFO     Uploading serialized function arguments to s3://sagemaker-eu-west-1-944771376927/mlops-model-finetune-evaluate-dft/evaluate_llama-2-7b/2024-06-20-08-11-24-955/arguments\n",
      "2024-06-20 08:11:33,811 sagemaker.remote_function INFO     Copied dependencies file at './requirements.txt' to '/var/folders/7j/mzj4jq4x6qlc63s7c977g8pc0000gs/T/tmp_qyh6r5j/requirements.txt'\n",
      "2024-06-20 08:11:33,971 sagemaker.remote_function INFO     Successfully uploaded dependencies and pre execution scripts to 's3://sagemaker-eu-west-1-944771376927/mlops-model-finetune-evaluate-dft/evaluate_llama-2-7b/2024-06-20-08-11-24-955/pre_exec_script_and_dependencies'\n",
      "WARNING:sagemaker.workflow.utilities:Popping out 'TrainingJobName' from the pipeline definition by default since it will be overridden at pipeline execution time. Please utilize the PipelineDefinitionConfig to persist this field in the pipeline definition if desired.\n",
      "2024-06-20 08:11:33,992 sagemaker.remote_function INFO     Uploading serialized function code to s3://sagemaker-eu-west-1-944771376927/mlops-model-finetune-evaluate-dft/preprocess/2024-06-20-08-11-24-955/function\n",
      "2024-06-20 08:11:34,315 sagemaker.remote_function INFO     Uploading serialized function arguments to s3://sagemaker-eu-west-1-944771376927/mlops-model-finetune-evaluate-dft/preprocess/2024-06-20-08-11-24-955/arguments\n",
      "2024-06-20 08:11:34,642 sagemaker.remote_function INFO     Copied dependencies file at './requirements.txt' to '/var/folders/7j/mzj4jq4x6qlc63s7c977g8pc0000gs/T/tmpogbf0l1q/requirements.txt'\n",
      "2024-06-20 08:11:34,817 sagemaker.remote_function INFO     Successfully uploaded dependencies and pre execution scripts to 's3://sagemaker-eu-west-1-944771376927/mlops-model-finetune-evaluate-dft/preprocess/2024-06-20-08-11-24-955/pre_exec_script_and_dependencies'\n",
      "WARNING:sagemaker.workflow.utilities:Popping out 'TrainingJobName' from the pipeline definition by default since it will be overridden at pipeline execution time. Please utilize the PipelineDefinitionConfig to persist this field in the pipeline definition if desired.\n"
     ]
    },
    {
     "data": {
      "text/plain": "_PipelineExecution(arn='arn:aws:sagemaker:eu-west-1:944771376927:pipeline/mlops-model-finetune-evaluate-dft/execution/1brxhphjzdse', sagemaker_session=<sagemaker.session.Session object at 0x7fab2a5cf880>)"
     },
     "execution_count": 38,
     "metadata": {},
     "output_type": "execute_result"
    }
   ],
   "source": [
    "from sagemaker import get_execution_role\n",
    "role = get_execution_role()\n",
    "\n",
    "pipeline = Pipeline(name=pipeline_name, steps=[cleanup_ret])#, sagemaker_session=session)\n",
    "pipeline.upsert()\n",
    "pipeline.start()"
   ]
  }
 ],
 "metadata": {
  "availableInstances": [
   {
    "_defaultOrder": 0,
    "_isFastLaunch": true,
    "category": "General purpose",
    "gpuNum": 0,
    "hideHardwareSpecs": false,
    "memoryGiB": 4,
    "name": "ml.t3.medium",
    "vcpuNum": 2
   },
   {
    "_defaultOrder": 1,
    "_isFastLaunch": false,
    "category": "General purpose",
    "gpuNum": 0,
    "hideHardwareSpecs": false,
    "memoryGiB": 8,
    "name": "ml.t3.large",
    "vcpuNum": 2
   },
   {
    "_defaultOrder": 2,
    "_isFastLaunch": false,
    "category": "General purpose",
    "gpuNum": 0,
    "hideHardwareSpecs": false,
    "memoryGiB": 16,
    "name": "ml.t3.xlarge",
    "vcpuNum": 4
   },
   {
    "_defaultOrder": 3,
    "_isFastLaunch": false,
    "category": "General purpose",
    "gpuNum": 0,
    "hideHardwareSpecs": false,
    "memoryGiB": 32,
    "name": "ml.t3.2xlarge",
    "vcpuNum": 8
   },
   {
    "_defaultOrder": 4,
    "_isFastLaunch": true,
    "category": "General purpose",
    "gpuNum": 0,
    "hideHardwareSpecs": false,
    "memoryGiB": 8,
    "name": "ml.m5.large",
    "vcpuNum": 2
   },
   {
    "_defaultOrder": 5,
    "_isFastLaunch": false,
    "category": "General purpose",
    "gpuNum": 0,
    "hideHardwareSpecs": false,
    "memoryGiB": 16,
    "name": "ml.m5.xlarge",
    "vcpuNum": 4
   },
   {
    "_defaultOrder": 6,
    "_isFastLaunch": false,
    "category": "General purpose",
    "gpuNum": 0,
    "hideHardwareSpecs": false,
    "memoryGiB": 32,
    "name": "ml.m5.2xlarge",
    "vcpuNum": 8
   },
   {
    "_defaultOrder": 7,
    "_isFastLaunch": false,
    "category": "General purpose",
    "gpuNum": 0,
    "hideHardwareSpecs": false,
    "memoryGiB": 64,
    "name": "ml.m5.4xlarge",
    "vcpuNum": 16
   },
   {
    "_defaultOrder": 8,
    "_isFastLaunch": false,
    "category": "General purpose",
    "gpuNum": 0,
    "hideHardwareSpecs": false,
    "memoryGiB": 128,
    "name": "ml.m5.8xlarge",
    "vcpuNum": 32
   },
   {
    "_defaultOrder": 9,
    "_isFastLaunch": false,
    "category": "General purpose",
    "gpuNum": 0,
    "hideHardwareSpecs": false,
    "memoryGiB": 192,
    "name": "ml.m5.12xlarge",
    "vcpuNum": 48
   },
   {
    "_defaultOrder": 10,
    "_isFastLaunch": false,
    "category": "General purpose",
    "gpuNum": 0,
    "hideHardwareSpecs": false,
    "memoryGiB": 256,
    "name": "ml.m5.16xlarge",
    "vcpuNum": 64
   },
   {
    "_defaultOrder": 11,
    "_isFastLaunch": false,
    "category": "General purpose",
    "gpuNum": 0,
    "hideHardwareSpecs": false,
    "memoryGiB": 384,
    "name": "ml.m5.24xlarge",
    "vcpuNum": 96
   },
   {
    "_defaultOrder": 12,
    "_isFastLaunch": false,
    "category": "General purpose",
    "gpuNum": 0,
    "hideHardwareSpecs": false,
    "memoryGiB": 8,
    "name": "ml.m5d.large",
    "vcpuNum": 2
   },
   {
    "_defaultOrder": 13,
    "_isFastLaunch": false,
    "category": "General purpose",
    "gpuNum": 0,
    "hideHardwareSpecs": false,
    "memoryGiB": 16,
    "name": "ml.m5d.xlarge",
    "vcpuNum": 4
   },
   {
    "_defaultOrder": 14,
    "_isFastLaunch": false,
    "category": "General purpose",
    "gpuNum": 0,
    "hideHardwareSpecs": false,
    "memoryGiB": 32,
    "name": "ml.m5d.2xlarge",
    "vcpuNum": 8
   },
   {
    "_defaultOrder": 15,
    "_isFastLaunch": false,
    "category": "General purpose",
    "gpuNum": 0,
    "hideHardwareSpecs": false,
    "memoryGiB": 64,
    "name": "ml.m5d.4xlarge",
    "vcpuNum": 16
   },
   {
    "_defaultOrder": 16,
    "_isFastLaunch": false,
    "category": "General purpose",
    "gpuNum": 0,
    "hideHardwareSpecs": false,
    "memoryGiB": 128,
    "name": "ml.m5d.8xlarge",
    "vcpuNum": 32
   },
   {
    "_defaultOrder": 17,
    "_isFastLaunch": false,
    "category": "General purpose",
    "gpuNum": 0,
    "hideHardwareSpecs": false,
    "memoryGiB": 192,
    "name": "ml.m5d.12xlarge",
    "vcpuNum": 48
   },
   {
    "_defaultOrder": 18,
    "_isFastLaunch": false,
    "category": "General purpose",
    "gpuNum": 0,
    "hideHardwareSpecs": false,
    "memoryGiB": 256,
    "name": "ml.m5d.16xlarge",
    "vcpuNum": 64
   },
   {
    "_defaultOrder": 19,
    "_isFastLaunch": false,
    "category": "General purpose",
    "gpuNum": 0,
    "hideHardwareSpecs": false,
    "memoryGiB": 384,
    "name": "ml.m5d.24xlarge",
    "vcpuNum": 96
   },
   {
    "_defaultOrder": 20,
    "_isFastLaunch": false,
    "category": "General purpose",
    "gpuNum": 0,
    "hideHardwareSpecs": true,
    "memoryGiB": 0,
    "name": "ml.geospatial.interactive",
    "supportedImageNames": [
     "sagemaker-geospatial-v1-0"
    ],
    "vcpuNum": 0
   },
   {
    "_defaultOrder": 21,
    "_isFastLaunch": true,
    "category": "Compute optimized",
    "gpuNum": 0,
    "hideHardwareSpecs": false,
    "memoryGiB": 4,
    "name": "ml.c5.large",
    "vcpuNum": 2
   },
   {
    "_defaultOrder": 22,
    "_isFastLaunch": false,
    "category": "Compute optimized",
    "gpuNum": 0,
    "hideHardwareSpecs": false,
    "memoryGiB": 8,
    "name": "ml.c5.xlarge",
    "vcpuNum": 4
   },
   {
    "_defaultOrder": 23,
    "_isFastLaunch": false,
    "category": "Compute optimized",
    "gpuNum": 0,
    "hideHardwareSpecs": false,
    "memoryGiB": 16,
    "name": "ml.c5.2xlarge",
    "vcpuNum": 8
   },
   {
    "_defaultOrder": 24,
    "_isFastLaunch": false,
    "category": "Compute optimized",
    "gpuNum": 0,
    "hideHardwareSpecs": false,
    "memoryGiB": 32,
    "name": "ml.c5.4xlarge",
    "vcpuNum": 16
   },
   {
    "_defaultOrder": 25,
    "_isFastLaunch": false,
    "category": "Compute optimized",
    "gpuNum": 0,
    "hideHardwareSpecs": false,
    "memoryGiB": 72,
    "name": "ml.c5.9xlarge",
    "vcpuNum": 36
   },
   {
    "_defaultOrder": 26,
    "_isFastLaunch": false,
    "category": "Compute optimized",
    "gpuNum": 0,
    "hideHardwareSpecs": false,
    "memoryGiB": 96,
    "name": "ml.c5.12xlarge",
    "vcpuNum": 48
   },
   {
    "_defaultOrder": 27,
    "_isFastLaunch": false,
    "category": "Compute optimized",
    "gpuNum": 0,
    "hideHardwareSpecs": false,
    "memoryGiB": 144,
    "name": "ml.c5.18xlarge",
    "vcpuNum": 72
   },
   {
    "_defaultOrder": 28,
    "_isFastLaunch": false,
    "category": "Compute optimized",
    "gpuNum": 0,
    "hideHardwareSpecs": false,
    "memoryGiB": 192,
    "name": "ml.c5.24xlarge",
    "vcpuNum": 96
   },
   {
    "_defaultOrder": 29,
    "_isFastLaunch": true,
    "category": "Accelerated computing",
    "gpuNum": 1,
    "hideHardwareSpecs": false,
    "memoryGiB": 16,
    "name": "ml.g4dn.xlarge",
    "vcpuNum": 4
   },
   {
    "_defaultOrder": 30,
    "_isFastLaunch": false,
    "category": "Accelerated computing",
    "gpuNum": 1,
    "hideHardwareSpecs": false,
    "memoryGiB": 32,
    "name": "ml.g4dn.2xlarge",
    "vcpuNum": 8
   },
   {
    "_defaultOrder": 31,
    "_isFastLaunch": false,
    "category": "Accelerated computing",
    "gpuNum": 1,
    "hideHardwareSpecs": false,
    "memoryGiB": 64,
    "name": "ml.g4dn.4xlarge",
    "vcpuNum": 16
   },
   {
    "_defaultOrder": 32,
    "_isFastLaunch": false,
    "category": "Accelerated computing",
    "gpuNum": 1,
    "hideHardwareSpecs": false,
    "memoryGiB": 128,
    "name": "ml.g4dn.8xlarge",
    "vcpuNum": 32
   },
   {
    "_defaultOrder": 33,
    "_isFastLaunch": false,
    "category": "Accelerated computing",
    "gpuNum": 4,
    "hideHardwareSpecs": false,
    "memoryGiB": 192,
    "name": "ml.g4dn.12xlarge",
    "vcpuNum": 48
   },
   {
    "_defaultOrder": 34,
    "_isFastLaunch": false,
    "category": "Accelerated computing",
    "gpuNum": 1,
    "hideHardwareSpecs": false,
    "memoryGiB": 256,
    "name": "ml.g4dn.16xlarge",
    "vcpuNum": 64
   },
   {
    "_defaultOrder": 35,
    "_isFastLaunch": false,
    "category": "Accelerated computing",
    "gpuNum": 1,
    "hideHardwareSpecs": false,
    "memoryGiB": 61,
    "name": "ml.p3.2xlarge",
    "vcpuNum": 8
   },
   {
    "_defaultOrder": 36,
    "_isFastLaunch": false,
    "category": "Accelerated computing",
    "gpuNum": 4,
    "hideHardwareSpecs": false,
    "memoryGiB": 244,
    "name": "ml.p3.8xlarge",
    "vcpuNum": 32
   },
   {
    "_defaultOrder": 37,
    "_isFastLaunch": false,
    "category": "Accelerated computing",
    "gpuNum": 8,
    "hideHardwareSpecs": false,
    "memoryGiB": 488,
    "name": "ml.p3.16xlarge",
    "vcpuNum": 64
   },
   {
    "_defaultOrder": 38,
    "_isFastLaunch": false,
    "category": "Accelerated computing",
    "gpuNum": 8,
    "hideHardwareSpecs": false,
    "memoryGiB": 768,
    "name": "ml.p3dn.24xlarge",
    "vcpuNum": 96
   },
   {
    "_defaultOrder": 39,
    "_isFastLaunch": false,
    "category": "Memory Optimized",
    "gpuNum": 0,
    "hideHardwareSpecs": false,
    "memoryGiB": 16,
    "name": "ml.r5.large",
    "vcpuNum": 2
   },
   {
    "_defaultOrder": 40,
    "_isFastLaunch": false,
    "category": "Memory Optimized",
    "gpuNum": 0,
    "hideHardwareSpecs": false,
    "memoryGiB": 32,
    "name": "ml.r5.xlarge",
    "vcpuNum": 4
   },
   {
    "_defaultOrder": 41,
    "_isFastLaunch": false,
    "category": "Memory Optimized",
    "gpuNum": 0,
    "hideHardwareSpecs": false,
    "memoryGiB": 64,
    "name": "ml.r5.2xlarge",
    "vcpuNum": 8
   },
   {
    "_defaultOrder": 42,
    "_isFastLaunch": false,
    "category": "Memory Optimized",
    "gpuNum": 0,
    "hideHardwareSpecs": false,
    "memoryGiB": 128,
    "name": "ml.r5.4xlarge",
    "vcpuNum": 16
   },
   {
    "_defaultOrder": 43,
    "_isFastLaunch": false,
    "category": "Memory Optimized",
    "gpuNum": 0,
    "hideHardwareSpecs": false,
    "memoryGiB": 256,
    "name": "ml.r5.8xlarge",
    "vcpuNum": 32
   },
   {
    "_defaultOrder": 44,
    "_isFastLaunch": false,
    "category": "Memory Optimized",
    "gpuNum": 0,
    "hideHardwareSpecs": false,
    "memoryGiB": 384,
    "name": "ml.r5.12xlarge",
    "vcpuNum": 48
   },
   {
    "_defaultOrder": 45,
    "_isFastLaunch": false,
    "category": "Memory Optimized",
    "gpuNum": 0,
    "hideHardwareSpecs": false,
    "memoryGiB": 512,
    "name": "ml.r5.16xlarge",
    "vcpuNum": 64
   },
   {
    "_defaultOrder": 46,
    "_isFastLaunch": false,
    "category": "Memory Optimized",
    "gpuNum": 0,
    "hideHardwareSpecs": false,
    "memoryGiB": 768,
    "name": "ml.r5.24xlarge",
    "vcpuNum": 96
   },
   {
    "_defaultOrder": 47,
    "_isFastLaunch": false,
    "category": "Accelerated computing",
    "gpuNum": 1,
    "hideHardwareSpecs": false,
    "memoryGiB": 16,
    "name": "ml.g5.xlarge",
    "vcpuNum": 4
   },
   {
    "_defaultOrder": 48,
    "_isFastLaunch": false,
    "category": "Accelerated computing",
    "gpuNum": 1,
    "hideHardwareSpecs": false,
    "memoryGiB": 32,
    "name": "ml.g5.2xlarge",
    "vcpuNum": 8
   },
   {
    "_defaultOrder": 49,
    "_isFastLaunch": false,
    "category": "Accelerated computing",
    "gpuNum": 1,
    "hideHardwareSpecs": false,
    "memoryGiB": 64,
    "name": "ml.g5.4xlarge",
    "vcpuNum": 16
   },
   {
    "_defaultOrder": 50,
    "_isFastLaunch": false,
    "category": "Accelerated computing",
    "gpuNum": 1,
    "hideHardwareSpecs": false,
    "memoryGiB": 128,
    "name": "ml.g5.8xlarge",
    "vcpuNum": 32
   },
   {
    "_defaultOrder": 51,
    "_isFastLaunch": false,
    "category": "Accelerated computing",
    "gpuNum": 1,
    "hideHardwareSpecs": false,
    "memoryGiB": 256,
    "name": "ml.g5.16xlarge",
    "vcpuNum": 64
   },
   {
    "_defaultOrder": 52,
    "_isFastLaunch": false,
    "category": "Accelerated computing",
    "gpuNum": 4,
    "hideHardwareSpecs": false,
    "memoryGiB": 192,
    "name": "ml.g5.12xlarge",
    "vcpuNum": 48
   },
   {
    "_defaultOrder": 53,
    "_isFastLaunch": false,
    "category": "Accelerated computing",
    "gpuNum": 4,
    "hideHardwareSpecs": false,
    "memoryGiB": 384,
    "name": "ml.g5.24xlarge",
    "vcpuNum": 96
   },
   {
    "_defaultOrder": 54,
    "_isFastLaunch": false,
    "category": "Accelerated computing",
    "gpuNum": 8,
    "hideHardwareSpecs": false,
    "memoryGiB": 768,
    "name": "ml.g5.48xlarge",
    "vcpuNum": 192
   },
   {
    "_defaultOrder": 55,
    "_isFastLaunch": false,
    "category": "Accelerated computing",
    "gpuNum": 8,
    "hideHardwareSpecs": false,
    "memoryGiB": 1152,
    "name": "ml.p4d.24xlarge",
    "vcpuNum": 96
   },
   {
    "_defaultOrder": 56,
    "_isFastLaunch": false,
    "category": "Accelerated computing",
    "gpuNum": 8,
    "hideHardwareSpecs": false,
    "memoryGiB": 1152,
    "name": "ml.p4de.24xlarge",
    "vcpuNum": 96
   },
   {
    "_defaultOrder": 57,
    "_isFastLaunch": false,
    "category": "Accelerated computing",
    "gpuNum": 0,
    "hideHardwareSpecs": false,
    "memoryGiB": 32,
    "name": "ml.trn1.2xlarge",
    "vcpuNum": 8
   },
   {
    "_defaultOrder": 58,
    "_isFastLaunch": false,
    "category": "Accelerated computing",
    "gpuNum": 0,
    "hideHardwareSpecs": false,
    "memoryGiB": 512,
    "name": "ml.trn1.32xlarge",
    "vcpuNum": 128
   },
   {
    "_defaultOrder": 59,
    "_isFastLaunch": false,
    "category": "Accelerated computing",
    "gpuNum": 0,
    "hideHardwareSpecs": false,
    "memoryGiB": 512,
    "name": "ml.trn1n.32xlarge",
    "vcpuNum": 128
   }
  ],
  "instance_type": "ml.t3.medium",
  "kernelspec": {
   "display_name": "Python 3 (ipykernel)",
   "language": "python",
   "name": "python3"
  },
  "language_info": {
   "codemirror_mode": {
    "name": "ipython",
    "version": 3
   },
   "file_extension": ".py",
   "mimetype": "text/x-python",
   "name": "python",
   "nbconvert_exporter": "python",
   "pygments_lexer": "ipython3",
   "version": "3.10.13"
  }
 },
 "nbformat": 4,
 "nbformat_minor": 5
}
